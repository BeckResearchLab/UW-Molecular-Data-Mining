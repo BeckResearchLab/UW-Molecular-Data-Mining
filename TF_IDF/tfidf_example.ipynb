{
 "cells": [
  {
   "cell_type": "code",
   "execution_count": 4,
   "metadata": {},
   "outputs": [],
   "source": [
    "import numpy as np\n",
    "import pandas as pd\n",
    "import os\n",
    "import random"
   ]
  },
  {
   "cell_type": "code",
   "execution_count": 5,
   "metadata": {},
   "outputs": [],
   "source": [
    "beto = '/Users/DavidJuergens/Desktop/BETO2020/'\n",
    "google = \"/Users/DavidJuergens/Google Drive File Stream/Shared drives/ChemE NLP Team Drive/Corrosion Inhibitors\""
   ]
  },
  {
   "cell_type": "code",
   "execution_count": 6,
   "metadata": {},
   "outputs": [],
   "source": [
    "os.chdir('/Users/DavidJuergens/Desktop/BETO2020/scripts/')\n",
    "import tfidf_wrapper\n",
    "from tfidf_wrapper import tfidf_model"
   ]
  },
  {
   "cell_type": "code",
   "execution_count": 7,
   "metadata": {},
   "outputs": [],
   "source": [
    "os.chdir(google)\n",
    "file = open('rank-2-CIpubs.txt','r')"
   ]
  },
  {
   "cell_type": "code",
   "execution_count": 8,
   "metadata": {},
   "outputs": [],
   "source": [
    "os.chdir(beto)"
   ]
  },
  {
   "cell_type": "markdown",
   "metadata": {},
   "source": [
    "## The above code just imports tfidf_wrapper, grabs rank2 corpus from Google. "
   ]
  },
  {
   "cell_type": "code",
   "execution_count": 9,
   "metadata": {},
   "outputs": [],
   "source": [
    "# make a list of publications from the file. tfidf_wrapper likes lists\n",
    "corpus = []\n",
    "for pub in file:\n",
    "    corpus.append(pub)\n",
    "file.close()"
   ]
  },
  {
   "cell_type": "code",
   "execution_count": 10,
   "metadata": {},
   "outputs": [
    {
     "data": {
      "text/plain": [
       "3346"
      ]
     },
     "execution_count": 10,
     "metadata": {},
     "output_type": "execute_result"
    }
   ],
   "source": [
    "# so there are now 3346 full texts in this list\n",
    "len(corpus)"
   ]
  },
  {
   "cell_type": "code",
   "execution_count": 11,
   "metadata": {},
   "outputs": [],
   "source": [
    "def scrambled(orig):\n",
    "    dest = orig[:]\n",
    "    random.shuffle(dest)\n",
    "    return dest"
   ]
  },
  {
   "cell_type": "code",
   "execution_count": 14,
   "metadata": {},
   "outputs": [],
   "source": [
    "# shake things up to be statistically fair.\n",
    "corpus = scrambled(corpus)"
   ]
  },
  {
   "cell_type": "code",
   "execution_count": 15,
   "metadata": {},
   "outputs": [],
   "source": [
    "# if you need documentation of how to use tfidf_wrapper, or you can just look at the source code\n",
    "# help(tfidf_wrapper)"
   ]
  },
  {
   "cell_type": "code",
   "execution_count": 16,
   "metadata": {},
   "outputs": [],
   "source": [
    "# This is the first call made for a tfidf_model class, create the object, which requires input corpus\n",
    "model = tfidf_model(corpus)"
   ]
  },
  {
   "cell_type": "code",
   "execution_count": 17,
   "metadata": {},
   "outputs": [],
   "source": [
    "# Now we make the tfidf matrix. This is a matrix that will contain vectors for each paper.\n",
    "# Each vector will have the unique tfidf information for every word\n",
    "model.tfidf_matrix()"
   ]
  },
  {
   "cell_type": "code",
   "execution_count": 18,
   "metadata": {},
   "outputs": [],
   "source": [
    "# the array attribute of the model contains all of the tfidf information\n",
    "mat = model.array\n",
    "vocab = model.vocab"
   ]
  },
  {
   "cell_type": "code",
   "execution_count": 19,
   "metadata": {},
   "outputs": [
    {
     "data": {
      "text/plain": [
       "(3346, 255764)"
      ]
     },
     "execution_count": 19,
     "metadata": {},
     "output_type": "execute_result"
    }
   ],
   "source": [
    "# looks like this tfidf matrix has 3346 rows, corresponding to each individual paper \n",
    "# 255764 corresponds to the length of each tfidf vector for each paper.\n",
    "# There are apparently 255764 unique words in the corpus \n",
    "mat.shape"
   ]
  },
  {
   "cell_type": "code",
   "execution_count": 20,
   "metadata": {},
   "outputs": [
    {
     "data": {
      "text/plain": [
       "array([0.0076284 , 0.00327592, 0.        , ..., 0.        , 0.        ,\n",
       "       0.        ])"
      ]
     },
     "execution_count": 20,
     "metadata": {},
     "output_type": "execute_result"
    }
   ],
   "source": [
    "# here is a single tfidf vector for a paper, each input corresponds to each word in the vocabulary\n",
    "mat[1001]"
   ]
  },
  {
   "cell_type": "code",
   "execution_count": 21,
   "metadata": {},
   "outputs": [],
   "source": [
    "# I just found this method by Googling. This finds the 4 highest numbers in a numpy array. \n",
    "# We can use this to get the highest tfidf scores from any paper\n",
    "ind = np.argpartition(mat[1001], -2000)[-2000:]"
   ]
  },
  {
   "cell_type": "code",
   "execution_count": 22,
   "metadata": {},
   "outputs": [],
   "source": [
    "# method to make sure we don't get words with numbers\n",
    "def hasNumbers(inputString):\n",
    "    import re\n",
    "    return bool(re.search(r'\\d', inputString))"
   ]
  },
  {
   "cell_type": "code",
   "execution_count": 29,
   "metadata": {},
   "outputs": [],
   "source": [
    "def good_words(matrix,vocab,n,stopcount):\n",
    "    \"\"\"\n",
    "    This method finds the most relevant words in a corpus, as calculated by tfidf scores.\n",
    "    \n",
    "    Parameters:\n",
    "    -----------\n",
    "    matrix (object, required): The object corresponding to the array attribute of a tfidf_wrapper model\n",
    "    \n",
    "    vocab (object, required): The object corresponding to the vocab attribute of a tfidf_wrapper model\n",
    "    \n",
    "    n (int,required): This integer describes \n",
    "    \"\"\"\n",
    "    goodwords = []\n",
    "    for i in range(mat.shape[0]):\n",
    "        highscore_indices = np.argpartition(mat[i], -n)[-n:]\n",
    "        \n",
    "        for j in range(n):\n",
    "            word = vocab[highscore_indices[j]]\n",
    "            \n",
    "            if not hasNumbers(word) and word not in goodwords:\n",
    "                goodwords.append(word)\n",
    "        \n",
    "        if len(goodwords) >= stopcount:\n",
    "            return goodwords\n",
    "            break\n",
    "               \n",
    "               \n",
    "        \n",
    "                \n",
    "        "
   ]
  },
  {
   "cell_type": "code",
   "execution_count": 31,
   "metadata": {},
   "outputs": [
    {
     "name": "stdout",
     "output_type": "stream",
     "text": [
      "['activation', 'values', 'charge', 'efficiency', 'time', 'curves', 'concentration', 'by', 'were', 'mol', 'absence', 'molecule', 'δg', 'indole', 'cor', 'resistance', 'presence', 'on', 'was', 'mild', 'steel', 'with', 'from', 'metal', 'to', 'polarization', 'acetic', 'surface', 'hcl', 'immersion', 'at', 'calculated', 'corrosion', 'of', 'inhibitor', 'is', 'this', 'as', 'inhibition', 'and', 'in', 'adsorption', 'ads', 'the', 'that', 'are', 'molecules', 'value', 'com', 'phenol', 'benzimidazole', 'https', 'image', 'prod', 'thumbnail', 'methylimidazole', 'gif', 'us', 'eu', 'chlorophenyl', 'for', 'east', 'yl', 'μd', 'sml', 'bromo', 'ucs', 'aminomethyl', 'pii', 'content', 'amazonaws', 'west', 'imidazol', 'stripin', 'imidazole', 'store', 'downsampled', 'jpg', 'âˆ', 'acid', 'quantum', 'ha', 'figure', 'epzc', 'nitrobenzylidene', 'sci', 'thione', 'el', 'corros', 'ïƒ', 'proceedings', 'phys', 'chem', 'merimi', 'today', 'triazolic', 'compound', 'dihydro', 'triazole', 'adhesion', 'healant', 'nanocapsule', 'smart', 'material', 'crack', 'review', 'encapsulation', 'scribed', 'polymerization', 'linseed', 'encapsulated', 'sandwiching', 'embedment', 'autonomous', 'capsule', 'microcapsule', 'uf', 'et', 'primer', 'repairing', 'systems', 'core', 'which', 'situ', 'agent', 'micro', 'nanocapsules', 'self', 'matrix', 'microcapsules', 'healing', 'shell', 'catalyst', 'coating', 'capsules', 'coatings', 'modified', 'while', 'oguzie', 'anaerobic', 'pipes', 'fig', 'inhibitors', 'weight', 'spdc', 'pyrimethamine', 'petroleum', 'both', 'gravimetric', 'additives', 'life', 'pipeline', 'crude', 'sulfadoxine', 'coupons', 'rate', 'half', 'ngobiri', 'al', 'water', 'ind', 'oil', 'molecular', 'ferhat', 'schiff', 'simulations', 'carbon', 'νc', 'altimg', 'aminophosphonate', 'har', 'setif', 'ppm', 'ndpima', 'apd', 'follow', 'stands', 'compounds', 'copper', 'whoes', 'cf', 'cu', 'researched', 'ability', 'ppd', 'food', 'electrode', 'organics', 'dbd', 'concentrations', 'kj', 'can', 'disulfide', 'flavors', 'flavouring', 'three', 'cm', 'sulfur', 'dad', 'phenylene', 'highres', 'ms', 'diamine', 'jpeg', 'iv', 'sb', 'sbs', 'perhaps', 'peaks', 'iron', 'be', 'potential', 'adherent', 'alkaline', 'stretch', 'interlayer', 'insertion', 'ln', 'ma', 'applied', 'brittle', 'acidic', 'oxalic', 'medium', 'passivation', 'oxalate', 'triethylamine', 'reaction', 'polypyrrole', 'allyamine', 'ph', 'pyrrole', 'induction', 'tea', 'density', 'counterions', 'electropolymerization', 'current', 'cucl', 'frequency', 'anodic', 'mercapto', 'aetd', 'electrochemical', 'corr', 'tetrazole', 'map', 'cpes', 'efm', 'measurements', 'causality', 'modulation', 'tafel', 'nacl', 'environmental', 'solution', 'these', 'gastric', 'performance', 'had', 'test', 'ftir', 'pores', 'protective', 'slide', 'amide', 'brown', 'chains', 'anticorrosive', 'propanediamine', 'ionics', 'salt', 'slides', 'coated', 'could', 'shellac', 'spray', 'entropy', 'loss', 'δe', 'chemical', 'edx', 'ct', 'energy', 'orbital', 'dhpm', 'homo', 'dihydropyrimidin', 'lumo', 'dhpms', 'exhibited', 'boron', 'nitride', 'capability', 'waterborne', 'composite', 'aptes', 'epoxy', 'leis', 'ep', 'nanosheets', 'szp', 'bn', 'fh', 'ion', 'sulfonate', 'entries', 'ligands', 'acetonitrile', 'chemoselectivity', 'oxidation', 'cyclooctene', 'cs', 'oxidant', 'co', 'pss', 'ligand', 'dm', 'hpss', 'tbhp', 'pyridylimine', 'inhibiting', 'catalysts', 'catalytic', 'mmol', 'cupsscl', 'cupssacl', 'complexes', 'agents', 'thiadiazole', 'impedance', 'film', 'cr', 'solutions', 'it', 'scratched', 'renders', 'bta', 'containing', 'band', 'benzotriazolymethylene', 'region', 'ft', 'thiadiazoly', 'ir', 'complex', 'bbtd', 'logf', 'polarisation', 'cubta', 'thioamide', 'than', 'cmc', 'monomer', 'ie', 'gemini', 'surfactant', 'owns', 'br', 'imidazolium', 'surfactants', 'viscoelastic', 'elastic', 'neat', 'esm', 'np', 'esp', 'nanocomposite', 'silica', 'nps', 'peg', 'days', 'mbi', 'atoms', 'tnc', 'datr', 'atr', 'protonation', 'tr', 'protonated', 'cyanophenylazo', 'des', 'pentanedione', 'sie', 'ki', 'sétif', 'aes', 'chemi', 'tested', 'temperatures', 'extrapolation', 'obtained', 'functions', 'increase', 'triton', 'tx', 'temperature', 'icp', 'sem', 'synergic', 'sugar', 'synergistic', 'combination', 'afm', 'sulfamic', 'chitosan', 'synergism', 'alone', 'ch', 'iran', 'met', 'methioninate', 'butyl', 'methionine', 'xcl', 'noise', 'ammonium', 'tehran', 'tetra', 'tba', 'spectra', 'treated', 'specimen', 'untreated', 'xps', 'ev', 'rich', 'protectivity', 'oh', 'transients', 'vag', 'pure', 'foil', 'steadily', 'fe', 'oxidised', 'experiments', 'mm', 'polarisations', 'passive', 'sims', 'oxide', 'tof', 'rinse', 'perchlorate', 'competitive', 'dmea', 'anions', 'buffering', 'anion', 'feox', 'quantification', 'amount', 'inh', 'oxeq', 'sce', 'vs', 'bare', 'samples', 'wet', 'bia', 'disbonding', 'hole', 'btra', 'btia', 'cathodic', 'azole', 'delamination', 'diblã', 'retaining', 'shafts', 'rings', 'kovã', 'procedia', 'device', 'cyclic', 'stress', 'hydrogen', 'pickling', 'pickled', 'prague', 'czech', 'fracture', 'urotropine', 'politecnico', 'cz', 'milano', 'pulsator', 'fatigue', 'à³žà³šà³', 'mechanical', 'di', 'meccanica', 'dipartimento', 'à³', 'cpe', 'interface', 'hydroxyethane', 'synergist', 'phosphonic', 'control', 'reports', 'combinations', 'studies', 'rct', 'ions', 'nitrilotris', 'tables', 'formulation', 'ascorbic', 'formulations', 'binary', 'aa', 'ternary', 'hedp', 'ntmp', 'zinc', 'phosphonate', 'tolyltriazole', 'percentage', 'volta', 'synthesized', 'deep', 'tension', 'alpha', 'wells', 'nmr', 'formation', 'ethylene', 'ethoxylation', 'micellization', 'nonionic', 'rind', 'watermelon', 'lpr', 'extract', 'wmr', 'pdp', 'wmre', 'nano', 'or', 'tires', 'behavior', 'results', 'deagglomeration', 'silicon', 'hybrid', 'nanocomposites', 'nanoparticles', 'dioxide', 'tem', 'phenylenediamine', 'paint', 'increased', 'painted', 'electrolyte', 'sample', 'continual', 'showed', 'uniformity', 'micropore', 'alloy', 'morphologies', 'phytic', 'treatment', 'formed', 'conductivity', 'esem', 'magnesium', 'separately', 'voltage', 'mao', 'breakdown', 'base', 'one', 'azide', 'alkyne', 'two', 'step', 'assembly', 'assembling', 'click', 'ta', 'sam', 'bto', 'membrane', 'steps', 'pentanediol', 'trifluoromethylsulfonyl', 'yne', 'choline', 'ils', 'il', 'solute', 'solutes', 'infinite', 'diols', 'propanediol', 'dyes', 'enthalpy', 'δs', 'thermodynamic', 'dye', 'ea', 'violet', 'crs', 'er', 'forestry', 'mv', 'ew', 'southwest', 'δh', 'ce', 'cation', 'qm', 'polyaniline', 'particles', 'sheets', 'graphene', 'cerium', 'emeraldine', 'pani', 'go', 'syn', 'lengths', 'cn', 'angles', 'td', 'propiophenone', 'decomp', 'crystal', 'phenyl', 'hhbh', 'benzoic', 'dmso', 'abh', 'distorted', 'bond', 'propylidene', 'carbonylate', 'ii', 'periplanar', 'hydrazide', 'centroid', 'ni', 'dft', 'habh', 'octahedral', 'intra', 'hbh', 'azomethine', 'blank', 'around', 'lim', 'ocp', 'voltammetry', 'oleuropein', 'leaf', 'olive', 'month', 'chromates', 'diagrams', 'modulus', 'mappings', 'cc', 'ncc', 'local', 'scratch', 'admittance', 'qatar', 'deyab', 'mn', 'eis', 'saline', 'scrub', 'pdf', 'may', 'lipstick', 'survivability', 'germane', 'calif', 'how', 'rubs', 'altack', 'polymer', 'swelling', 'spot', 'astm', 'mek', 'testing', 'tests', 'insults', 'you', 'insult', 'finger', 'attacking', 'attack', 'tluid', 'athey', 'gasoline', 'modification', 'borne', 'dopamine', 'substrate', 'pda', 'xml', 'apigenin', 'indiaca', 'taxifolin', 'tamarindus', 'eriodictyol', 'svg', 'naringenin', 'anthraquinones', 'components', 'alkaloids', 'evolved', 'plant', 'st', 'lv', 'log', 'extracts', 'leaves', 'stem', 'acuta', 'py', 'ti', 'ppy', 'citrate', 'niti', 'molybdate', 'drop', 'rolled', 'hw', 'iep', 'wo', 'correction', 'average', 'ohmic', 'moll', 'cold', 'paa', 'ieg', 'tungstate', 'cooo', 'polytungstate', 'peracetic', 'benzene', 'dr', 'action', 'would', 'unshared', 'sole', 'phase', 'cementite', 'more', 'zview', 'dl', 'microstructures', 'bases', 'martensite', 'perlite', 'cos', 'hetro', 'transfer', 'ohi', 'feohi', 'chlorohydroxy', 'feoh', 'iodide', 'offered', 'halide', 'bbts', 'dose', 'length', 'hydrophobic', 'uninh', 'chain', 'sba', 'sbad', 'sbah', 'sbao', 'sbat', 'sbb', 'sbbd', 'sbbh', 'sbbo', 'δgo', 'octadecyl', 'sbbt', 'ci', 'capacitance', 'cations', 'found', 'amines', 'dpa', 'behaviour', 'btm', 'diphenylamine', 'unphysical', 'efficiencies', 'guanine', 'between', 'ee', 'correlations', 'mndo', 'huckel', 'muliken', 'ieexp', 'hypoxanthine', 'hpy', 'hyp', 'aluminum', 'ad', 'gu', 'fukui', 'hamiltonians', 'purines', 'layers', 'underneath', 'pass', 'pitting', 'electropolymerisation', 'kraljić', 'cp', 'sulphuric', 'stainless', 'aniline', 'ss', 'redox', 'phosphate', 'peak', 'sss', 'phosphoric', 'mod', 'steels', 'layer', 'microscopy', 'uninhibited', 'linear', 'table', 'etoh', 'lg', 'mjk', 'extraction', 'dxr', 'cbe', 'raman', 'capsella', 'bursa', 'pastoris', 'silane', 'cpeb', 'flakelets', 'cpep', 'pore', 'membranes', 'nm', 'wt', 'sio', 'colloidal', 'octyltriethoxysilane', 'structure', 'porous', 'honeycomb', 'ceramic', 'nos', 'carrier', 'macroporous', 'alumina', 'aao', 'cataphoretic', 'pyrrolic', 'doping', 'an', 'oxidized', 'voltammetric', 'films', 'oxidizable', 'salicylate', 'adherence', 'sweep', 'signal', 'orthophthalate', 'sodium', 'not', 'speak', 'sds', 'isotherm', 'idealised', 'situations', 'langmuir', 'case', 'overlay', 'observed', 'antagonistic', 'moldm', 'hah', 'hemi', 'sdbs', 'media', 'moment', 'forms', 'clo', 'thiadiazoles', 'qsar', 'dipole', 'derivatives', 'pyridyl', 'bis', 'pyridinium', 'pthh', 'pth', 'diprotonated', 'tg', 'softe', 'cl', 'hbta', 'scand', 'pink', 'bidentate', 'cis', 'plakatouras', 'coordination', 'dalton', 'symmetry', 'reedijk', 'caic', 'soc', 'mebta', 'mebtah', 'trans', 'cobalt', 'meoh', 'nitrato', 'ncs', 'acta', 'esr', 'tetrahedral', 'calc', 'monodentate', 'inorg', 'threshold', 'binder', 'connected', 'transport', 'leachate', 'pigment', 'unexposed', 'polymeric', 'sr', 'strontium', 'species', 'clusters', 'pvc', 'leaching', 'saph', 'pigments', 'percolation', 'chemisorption', 'cyano', 'pyridine', 'pys', 'mercaptoundecyl', 'irras', 'substrates', 'hydrolysis', 'grafting', 'culmm', 'assembled', 'unhydrolyzed', 'thiol', 'terminal', 'cumpts', 'si', 'monolayers', 'trimethoxysilane', 'cuhydrolyzed', 'monolayer', 'dt', 'hydrolyzed', 'mpts', 'muts', 'rh', 'coofe', 'exposure', 'sub', 'lattice', 'iii', 'fwhm', 'takeoff', 'air', 'glutarate', 'native', 'pyzca', 'eldin', 'icorr', 'mofs', 'mof', 'ag', 'qox', 'niâˆ', 'spectral', 'science', 'ä½œç', 'en', 'bpie', 'èš', 'mohaghegh', 'ˆé', 'çš', 'åœ', 'electrochimica', 'seifzadeh', 'âž', 'nonferrous', 'ardabil', 'electroless', 'ardabili', 'scribe', 'nss', 'deslamination', 'ranking', 'acet', 'nubirox', 'rusting', 'fto', 'benzenamine', 'gc', 'thienyl', 'ptba', 'thiophene', 'without', 'we', 'rotating', 'iei', 'tacussel', 'mercaptobenzimidazole', 'armco', 'sulfate', 'increasing', 'cysteine', 'alanine', 'lead', 'amino', 'cys', 'acids', 'ala', 'wafers', 'used', 'bridges', 'infrared', 'sensor', 'contaminant', 'vapor', 'chloroform', 'electrical', 'radicals', 'pressure', 'polar', 'deposition', 'bombardment', 'organic', 'quartz', 'contaminants', 'hexane', 'argon', 'deposited', 'ps', 'propanol', 'plasma', 'admitted', 'hmds', 'pqc', 'plata', 'polytohcu', 'cycles', 'polycarvcu', 'phd', 'carv', 'toh', 'polycarv', 'polytoh', 'svet', 'when', 'distance', 'chloride', 'ex', 'measured', 'secm', 'currents', 'methanol', 'ferrocinium', 'feedback', 'tip', 'exposures', 'ferrocene', 'microelectrode', 'benzotriazole', 'sulphate', 'approach', 'btah', 'mediator', 'utilizing', 'working', 'stabilizes', 'cauliflower', 'sellotape', 'versus', 'electrodeposited', 'electrodes', 'malate', 'agcl', 'electrolytic', 'electrosynthesized', 'malic', 'eco', 're', 'single', 'mixture', 'rare', 'vanillin', 'earth', 'intensities', 'phosphonates', 'saturated', 'inhibitory', 'portions', 'oxides', 'thought', 'spectrum', 'sgp', 'αfeooh', 'soil', 'macro', 'ascribable', 'calcium', 'ca', 'concrete', 'reactivity', 'theoretical', 'electrophilic', 'electrons', 'gaseous', 'metallic', 'chih', 'ia', 'gap', 'imidazoline', 'ib', 'amidoethyl', 'ic', 'imidazolines', 'hydroxyethyl', 'δn', 'fha', 'solvent', 'calculations', 'indices', 'diesel', 'temkin', 'tannins', 'sulfuric', 'salicylidenes', 'tannin', 'brass', 'stiasny', 'mimosa', 'parameter', 'oxadiazoles', 'correlation', 'using', 'perchloric', 'pox', 'lr', 'oxadiazole', 'feh', 'studied', 'aloe', 'gel', 'vera', 'vitamin', 'fecl', 'cdl', 'ambient', 'group', 'nndq', 'concnetration', 'mmdq', 'dust', 'physico', 'cnano', 'zn', 'cpvc', 'polymers', 'pigmented', 'conducting', 'cgraphite', 'graphite', 'nanotubes', 'anticorrosion', 'electrodeposition', 'complexed', 'zno', 'dissolved', 'induces', 'dissolution', 'participated', 'min', 'pe', 'caseinatesolution', 'spectrophotometry', 'plateau', 'protein', 'uncoated', 'esca', 'milk', 'casein', 'naoh', 'caseinate', 'ppa', 'quraishi', 'piperidin', 'egbedi', 'obi', 'ppt', 'me', 'coir', 'coconut', 'cocl', 'methoxyphenylhydrzono', 'nicl', 'ethoxy', 'sarawy', 'methyleno', 'desalination', 'och', 'tion', 'acetyl', 'cacl', 'thiazole', 'coch', 'thiazolidin', 'investigations', 'unpigmented', 'binders', 'absorption', 'retention', 'stoving', 'amorphous', 'basic', 'pre', 'pigmentation', 'properties', 'permeability', 'blistering', 'melamine', 'phosphating', 'phosphated', 'kind', 'crystalline', 'alkyd', 'khalid', 'smaller', 'ultrasonication', 'higher', 'malaysia', 'rpore', 'epd', 'size', 'permeation', 'orb', 'functionalized', 'υs', 'mgl', 'specimens', 'diaminobenzene', 'aab', 'aminoazobenzene', 'composites', 'dab', 'monte', 'carlo', 'locator', 'keto', 'enol', 'enols', 'ke', 'unpretreated', 'homogeneous', 'electrosynthesis', 'plates', 'pretreated', 'propylene', 'pretreatment', 'pt', 'solvents', 'densities', 'sulfides', 'sulfide', 'nitrobenzene', 'acidizing', 'gelatin', 'eq', 'abdelhamid', 'her', 'eqcm', 'abs', 'discharge', 'aαη', 'iyer', 'charging', 'analysis', 'ipza', 'elhamid', 'ipz', 'recombination', 'original', 'coverage', 'their', 'method', 'ab', 'mox', 'they', 'ata', 'initio', 'energies', 'methods', 'semiempirical', 'ws', 'extracted', 'cyaniding', 'cyanidin', 'epigallocatechin', 'epicatechin', 'eelps', 'peel', 'mg', 'ultrasound', 'dpr', 'glucoside', 'lychee', 'seed', 'increases', 'stretching', 'blockading', 'levels', 'preventing', 'alkyl', 'lab', 'labs', 'sulphonate', 'non', 'rates', 'visualised', 'independently', 'bright', 'phosphonocarboxylic', 'inhibitive', 'variation', 'pcas', 'whitish', 'fa', 'monotonic', 'rotation', 'crystallographic', 'title', 'solvatochromic', 'ground', 'mataga', 'hboa', 'moments', 'hca', 'excited', 'stokes', 'kamlet', 'chamma', 'state', 'fluorescence', 'catalan', 'oxazolidin', 'sdp', 'bakhshiev', 'viallet', 'onsager', 'hydroxybenzylideneamino', 'shift', 'lippert', 'benzyl', 'polarity', 'dipolarity', 'taft', 'seal', 'dublin', 'sealing', 'nat', 'aluminium', 'hydrothermal', 'hydration', 'rbl', 'anodising', 'tetrazine', 'imid', 'dptz', 'hyd', 'dptzf', 'dptza', 'anodised', 'hts', 'directly', 'panels', 'stannate', 'chromate', 'tin', 'functionality', 'subjected', 'etching', 'repair', 'resistances', 'eds', 'alloys', 'islands', 'salts', 'widening', 'witch', 'ageing', 'after', 'passivity', 'localised', 'pit', 'summarised', 'earths', 'notes', 'lanthanide', 'po', 'impact', 'resin', 'bend', 'song', 'paeonol', 'methylpyridine', 'nbo', 'amp', 'have', 'tube', 'doped', 'protection', 'been', 'dopant', 'tga', 'along', 'vinyl', 'top', 'coat', 'due', 'periods', 'rebars', 'scp', 'rebar', 'morpho', 'cipro', 'antibiotics', 'drugs', 'doxy', 'strepto', 'amoxi', 'bronze', 'romania', 'antibacterial', 'records', 'thymus', 'domain', 'tv', 'fft', 'green', 'thyme', 'psd', 'vulgaris', 'zcpe', 'exfoliated', 'thf', 'pba', 'bnxec', 'deconvolution', 'cystine', 'ins', 'rsh', 'aesec', 'wasit', 'inhibited', 'iraq', 'drug', 'etoricoxib', 'anaee', 'expired', 'feo', 'has', 'zp', 'phosphatization', 'artificial', 'day', 'npel', 'shielding', 'initial', 'sea', 'rigid', 'study', 'dynamics', 'carbonitrile', 'simulation', 'nitrophenyl', 'phenylthio', 'velocities', 'beyond', 'performances', 'cumulative', 'critical', 'under', 'flow', 'condition', 'velocity', 'entrained', 'imc', 'static', 'optimum', 'sand', 'flowing', 'hydrazine', 'bdbh', 'dpph', 'seaweed', 'teos', 'dta', 'mtes', 'nhc', 'cenhc', 'phc', 'plain', 'µm', 'sol', 'curing', 'solvation', 'ferdowsi', 'bcmtp', 'thiazolo', 'pyrimidine', 'cetp', 'emmtp', 'cmtpt', 'mashhad', 'toward', 'corrosive', 'metals', 'chamaecyparissus', 'kashan', 'santolina', 'passion', 'mango', 'aqueous', 'peels', 'fruits', 'fruit', 'cashew', 'pectin', 'antioxidant', 'carotenoids', 'phenolic', 'orange', 'tetrachloroethylene', 'stacking', 'ttt', 'decomposition', 'volume', 'strain', 'fusion', 'vitrification', 'gage', 'carbonized', 'microvoids', 'saxs', 'starting', 'vitrifies', 'crystallites', 'crystallite', 'during', 'pspc', 'waxd', 'tensile', 'stabilized', 'pcdi', 'stabilization', 'carbonization', 'according', 'replaces', 'flory', 'huggins', 'dc', 'tempkin', 'bi', 'barrier', 'intermetallic', 'duplex', 'conversion', 'called', 'enm', 'jωc', 'dimension', 'record', 'exponent', 'hurst', 'statistical', 'fractal', 'semicircle', 'rescaled', 'memory', 'being', 'trend', 'bns', 'btr', 'rn', 'btbbi', 'sulfhydryl', 'tbbi', 'amoxicillin', 'rats', 'commercially', 'having', 'flucloxacillin', 'infections', 'cefalexin', 'brϕnsted', 'stern', 'kt', 'ah', 'int', 'rt', 'proton', 'sc', 'soh', 'pzc', 'pk', 'borage', 'neutral', 'flower', 'nicotinic', 'bfe', 'carotene', 'lactic', 'chloromethyl', 'inductive', 'methylmercapto', 'adsorbate', 'mb', 'cb', 'binding', 'nitric', 'located', 'negative', 'response', 'positive', 'reference', 'electro', 'photo', 'ppma', 'ferric', 'μa', 'curve', 'buffer', 'going', 'photocurrent', 'borate', 'scan', 'faculty', 'box', 'rbaa', 'morocco', 'sciences', 'mica', 'xp', 'au', 'chlorine', 'upright', 'auger', 'upd', 'chloridic', 'stm', 'lmm', 'efficient', 'galvanostatic', 'methoxybenzylidene', 'gujarat', 'registry', 'dibenzylidene', 'disalicylidene', 'conjoint', 'eddb', 'ethylenediamine', 'edds', 'edmdb', 'vietnam', 'aeruginosa', 'fouling', 'copolymer', 'biofouling', 'vladivostok', 'bioadditives', 'acetate', 'biocomponents', 'antifouling', 'culture', 'based', 'bacterial', 'enzyme', 'metabolites', 'enzymes', 'hammet', 'free', 'constant', 'pb', 'methoxyphenyl', 'methylphenyl', 'cinnamimide', 'phenylcinnamimide', 'pbi', 'startup', 'starvation', 'degradation', 'ht', 'lt', 'anode', 'reformer', 'pemfcs', 'pemfc', 'reforming', 'pa', 'stack', 'cathode', 'operation', 'operating', 'fuel', 'poisoning', 'mea', 'cell', 'cells', 'pem', 'rises', 'elliptic', 'decreases', 'nudiflorum', 'adsorptive', 'lindl', 'jnlle', 'jasminum', 'alcl', 'loop', 'cui', 'pdtc', 'reynolds', 'disc', 'hydrodynamics', 'mass', 'laminar', 'conditions', 'hydrodynamic', 'speed', 'speeds', 'also', 'rde', 'egi', 'gum', 'guar', 'τdl', 'pp', 'biocide', 'ctab', 'mpox', 'scw', 'given', 'barbituric', 'plots', 'ac', 'ba', 'plane', 'deba', 'defects', 'gω', 'beijing', 'rgo', 'gz', 'microsheets', 'nanosized', 'autocatalytic', 'hno', 'period', 'butane', 'sudden', 'methane', 'limiting', 'ihn', 'hydroxy', 'triazol', 'contaminated', 'no', 'admixture', 'penetration', 'strength', 'cement', 'volatile', 'aminoalcohol', 'initiation', 'mortar', 'mci', 'amine', 'carbonated', 'compressive', 'mfp', 'admixed', 'ester', 'ama', 'nitrite', 'cni', 'slump', 'reducing', 'power', 'opf', 'scavengers', 'unmodified', 'autohydrolysis', 'ahd', 'ahn', 'naphthol', 'organosolv', 'eol', 'lignin', 'dihydroxyanthraquinone', 'rpo', 'ηr', 'jcorr', 'bipolar', 'cnts', 'furan', 'bifp', 'bifm', 'dibenzylthiourea', 'urea', 'diisopropylthiourea', 'dptu', 'wcorr', 'thiourea', 'thioureas', 'dbu', 'dbtu', 'flakes', 'cps', 'defect', 'vanadate', 'scavenger', 'dopants', 'pmaf', 'pvaf', 'oxyanion', 'oxyanions', 'psaf', 'dhs', 'ppaf', 'flake', 'gasketed', 'fog', 'drives', 'vi', 'reduction', 'rockwell', 'corrpassiv', 'kinlen', 'machine', 'breached', 'release', 'concept', 'orr', 'undoped', 'conference', 'mat', 'áˆ', 'gads', 'nayak', 'engg', 'underaged', 'hardness', 'sic', 'aged', 'sh', 'jagannath', 'aging', 'sicp', 'chacko', 'melby', 'âºc', 'urtica', 'disbondment', 'ur', 'post', 'cecc', 'localization', 'effect', 'additive', 'rhodanine', 'add', 'thiazolidinone', 'thioxo', 'azosulpha', 'covalent', 'groups', 'ago', 'hydroxide', 'benzotriazolate', 'hydroxides', 'clays', 'degassed', 'loading', 'ldh', 'bentonite', 'btsa', 'benzothiazolylthio', 'layered', 'intercalated', 'vis', 'assignment', 'selangor', 'phenylbenzene', 'universiti', 'mara', 'photoemission', 'nanopigment', 'nanopigments', 'moiety', 'cyclisation', 'soft', 'elevated', 'hard', 'trd', 'tad', 'china', 'fluffy', 'dodecyltrimethylammonium', 'freundlich', 'changhong', 'delayed', 'pr', 'dtab', 'koh', 'mianyang', 'fourier', 'towards', 'ylmethyl', 'thiomorpholin', 'bands', 'mpa', 'seawater', 'morpholin', 'natural', 'tmpa', 'addition', 'pebbling', 'aminochalcone', 'dihydroxychalcone', 'methoxychalcone', 'chalcone', 'chalcones', 'chalconic', 'cidepint', 'principal', 'attraction', 'micronized', 'molybdenum', 'system', 'oc', 'primers', 'zmp', 'paints', 'elumo', 'logp', 'sulphonamide', 'ssz', 'sna', 'smz', 'smx', 'sulphonamides', 'sdm', 'liquid', 'diaminium', 'spacer', 'ionic', 'liquids', 'plot', 'trimethoxybenzylidene', 'str', 'hydrochloric', 'tmbhc', 'acceleration', 'ibrahim', 'austenitic', 'hdpb', 'surfaces', 'nearest', 'neighbours', 'antisites', 'adsorbed', 'hfb', 'antisite', 'atom', 'htb', 'hfa', 'oxygen', 'benzimidazoles', 'deployed', 'present', 'ink', 'done', 'shows', 'dmap', 'dispersed', 'fgo', 'nitro', 'functionalization', 'asthalin', 'depression', 'influence', 'alcohol', 'electroactivity', 'ketone', 'nadds', 'camphor', 'δσ', 'process', 'indifferent', 'cv', 'benzonitrile', 'squeezing', 'dds', 'overoxidation', 'diisopropyl', 'hexanol', 'reoxidation', 'dioxygen', 'dilolyl', 'additionl', 'upto', 'potentiodynamic', 'ptu', 'dttu', 'formic', 'ttu', 'dichloromethane', 'trees', 'low', 'alkaloidic', 'amazonian', 'alkaloid', 'tinctoria', 'ouregou', 'guatteria', 'simira', 'harmane', 'rds', 'red', 'mechanism', 'heats', 'halides', 'congo', 'fey', 'rise', 'fexoh', 'yx', 'sae', 'anti', 'phosphates', 'polarised', 'suspensions', 'tripolyphosphate', 'unpaired', 'discarded', 'irradiated', 'radiolysis', 'reactor', 'aq', 'nuclear', 'aliphatic', 'rays', 'radical', 'polyoxy', 'aromatic', 'radioactive', 'cyclohexadienes', 'kgy', 'gamma', 'ray', 'radiation', 'irradiation', 'amt', 'química', 'rainwater', 'rio', 'quadratic', 'de', 'design', 'janeiro', 'perturbing', 'ordered', 'dodecanoic', 'crystals', 'isopropanol', 'dodecanoate', 'procedure', 'imm_ir', 'amperometry', 'amp_ir', 'bromide', 'investigated', 'pyridoxal', 'different', 'dihydropyridine', 'sp', 'reinforcing', 'rsa', 'concretes', 'acidified', 'phytate', 'effects', 'calcination', 'rehydration', 'pab', 'aminobenzoate', 'mgal', 'abd', 'see', 'succinate', 'sa', 'lcs', 'haloacetic', 'phe', 'boc', 'aminoacids', 'peptidic', 'peptides', 'peptide', 'moghadasi', 'parenti', 'flasks', 'operational', 'simulated', 'phos', 'nace', 'sg', 'touir', 'ordinary', 'cooling', 'scale', 'products', 'nicsyy', 'nicszz', 'nicsxx', 'iso', 'benzothiazole', 'aromaticity', 'mbta', 'nics', 'tbta', 'tensors', 'bolaamphiphile', 'biphenyl', 'bolaamphiphiles', 'pzp', 'twis', 'wag', 'sers', 'rock', 'aptd', 'bhargava', 'principle', 'understood', 'boundary', 'accessed', 'considering', 'mag', 'quite', 'pseudopotential', 'monkhost', 'bonds', 'magnetization', 'imz', 'isolated', 'intermolecular', 'calculation', 'cooperative', 'slab', 'periodic', 'optical', 'spirulina', 'uv', 'mic', 'shewanella', 'counts', 'count', 'mediums', 'serial', 'biofilm', 'platensis', 'bacteria', 'mici', 'microalgae', 'microbiologically', 'do', 'vvdw', 'global', 'electrophilicity', 'actph', 'cltph', 'tphcal', 'tphcac', 'tph', 'δω', 'cpcm', 'vacuo', 'networks', 'flexibility', 'storage', 'oligomers', 'hybrids', 'methylene', 'inorganic', 'bisphenol', 'epoxides', 'fatty', 'bpa', 'epoxide', 'oligomer', 'electrogalvanized', 'vibrating', 'precipitate', 'edge', 'cut', 'precipitation', 'anodes', 'electromotive', 'galvanic', 'made', 'lifetime', 'area', 'mptsc', 'thiosemicarbazone', 'amptsc', 'fmptsc', 'poly', 'vinylpyridine', 'operative', 'polyacrylic', 'ess', 'disubstituted', 'organosilane', 'sst', 'painting', 'gptms', 'electronic', 'allyl', 'mtu', 'atu', 'hn', 'pdos', 'homa', 'dehydrogenation', 'neb', 'hlg', 'pyh', 'bader', 'se', 'li', 'zeolite', 'zeolites', 'mcm', 'upon', 'shown', 'sputtering', 'egandg', 'hours', 'modelling', 'diene', 'thia', 'diazabicyclo', 'dibenzo', 'mcth', 'polyether', 'macrocyclic', 'qmp', 've', 'dna', 'cefatrexyl', 'acidization', 'respectively', 'alcohols', 'acetylenic', 'commercial', 'ocal', 'propargyl', 'pral', 'reflectance', 'adhesive', 'absorbance', 'immersed', 'topographic', 'cationic', 'force', 'ge', 'mad', 'excess', 'chemically', 'hq', 'tends', 'annealing', 'hydrotalcite', 'stagnant', 'uracil', 'solvothermal', 'cds', 'asa', 'pol', 'spaced', 'resistor', 'hydroxybenzyl', 'link', 'intramolecular', 'hydroxyphenyl', 'salicyaldehyde', 'diaminopropane', 'salicyaldimine', 'order', 'other', 'units', 'polycarboxylic', 'gas', 'industry', 'brine', 'wherein', 'polysulfide', 'polysulfides', 'polyamine', 'polyamines', 'stream', 'supporting', 'electronically', 'potentiostatic', 'capacitors', 'leakage', 'tar', 'tart', 'tartaric', 'tartrate', 'backscattering', 'bilayer', 'nuclei', 'cracks', 'stage', 'rincón', 'postdoctoral', 'shenzhen', 'variations', 'level', 'reinforcement', 'doi', 'dimethylaminoethanol', 'ecorr', 'mio', 'zpm', 'polyurethane', 'es', 'dpf', 'coats', 'siloxane', 'zrp', 'topcoat', 'solubility', 'emulsion', 'peshawar', 'oceans', 'ocean', 'pacific', 'conductance', 'dbsa', 'attacks', 'imd', 'environments', 'coli', 'panis', 'ebp', 'tianjin', 'dedoped', 'bromine', 'subtilis', 'killing', 'dicarbonitrile', 'indol', 'arh', 'tapds', 'tapd', 'circuit', 'undoping', 'its', 'oxychloride', 'att', 'aerated', 'decylamide', 'decylamides', 'decylamine', 'valine', 'glycine', 'tritylglycine', 'tyrosine', 'dibenzotriazol', 'condensers', 'benzotriazol', 'ylmethylaminoethane', 'dezincification', 'dbme', 'btea', 'oxoethyl', 'evolution', 'cpob', 'weld', 'maraging', 'mhads', 'prabakaran', 'ml', 'scavenging', 'phosphomolybdenum', 'tfc', 'involucrata', 'tpc', 'involucrate', 'ethyl', 'imidazolecarbaldehyde', 'redistilled', 'ring', 'physisorbe', 'methyl', 'imidazolecarboxylate', 'rl', 'mbt', 'azoles', 'mbimd', 'tda', 'bimd', 'jacketed', 'mmy', 'hydroxyacetophenylidene', 'lacoh', 'salicylidene', 'wl', 'lineer', 'triple', 'loh', 'network', 'healed', 'materials', 'tdcb', 'vascular', 'fiber', 'damage', 'reversible', 'alder', 'diels', 'recovery', 'fvo', 'cry', 'δhθ', 'δgθ', 'vibration', 'fragran', 'osmanthus', 'ofle', 'ga', 'δsθ', 'nearer', 'grafted', 'monomers', 'am', 'graft', 'dmdaac', 'terpolymer', 'diallyl', 'pulping', 'imine', 'reduced', 'saccharinate', 'vapors', 'saccharin', 'sac', 'naphthalene', 'chronopotentiometric', 'acetone', 'hexadecylpyridinium', 'ηi', 'hdpcl', 'pi', 'treatments', 'depth', 'passed', 'cubes', 'injection', 'bars', 'anolyte', 'migration', 'field', 'crushed', 'ethanolamine', 'guanidine', 'failed', 'embedded', 'localized', 'data', 'there', 'failure', 'kcc', 'mem', 'shot', 'event', 'events', 'industrial', 'aircraft', 'maximal', 'dibromides', 'monobromides', 'middle', 'somewhat', 'nhe', 'worse', 'tbb', 'bromides', 'tp', 'mtb', 'tpa', 'quaternary', 'tt', 'very', 'tfb', 'frumkin', 'waste', 'callovo', 'nani', 'oxfordian', 'cox', 'naniph', 'groundwater', 'instability', 'space', 'patterns', 'spaces', 'dk', 'labyrinthine', 'pattern', 'activator', 'spatial', 'striped', 'bifurcation', 'dib', 'dη', 'dθ', 'cross', 'diffusion', 'turing', 'datong', 'chongqing', 'bpt', 'tetrazolium', 'acetylacetonate', 'phs', 'znaa', 'open', 'vmin', 'donation', 'carboxylate', 'hückel', 'ehmo', 'cluster', 'configuration', 'routine', 'benzoate', 'nitrate', 'incorporated', 'btse', 'aps', 'superprimers', 'nanocontainers', 'sensing', 'aveiro', 'sinc', 'phph', 'liquritigenin', 'liquiritigenin', 'glabridin', 'glycyrrhetinic', 'glycyrrhizin', 'glycyrrhiza', 'glabra', 'licochalcone', 'pps', 'pyrazolo', 'constituents', 'restraint', 'phytochemical', 'fragrans', 'myristica', 'pyridazine', 'pyridazinol', 'phenylpyrazine', 'africa', 'pyridazinone', 'high', 'res', 'second', 'dibasic', 'generation', 'phosphite', 'ip', 'phosphomolybdate', 'lp', 'corrosivity', 'gluconic', 'soluble', 'root', 'active', 'tartarate', 'gluconate', 'mind', 'presented', 'series', 'resistive', 'rescale', 'zap', 'acrylic', 'cerrito', 'bling', 'bub', 'sult', 'seldom', 'oftest', 'list', 'orother', 'mustard', 'wrinkling', 'offthe', 'watch', 'ofthe', 'respect', 'determination', 'calibration', 'hexyl', 'artefacts', 'activity', 'rain', 'outdoor', 'tla', 'weathering', 'µg', 'amc', 'voltammogram', 'synthesis', 'cresol', 'nonmodified', 'azo', 'bad', 'bad_', 'big', 'biofilms', 'forming', 'crevices', 'death', 'rp', 'edxa', 'disbonded', 'crevice', 'ses', 'srb', 'holiday', 'fex', 'dea', 'hs', 'bicine', 'sulphide', 'sulphides', 'hss', 'nh', 'im', 'sweetening', 'gases', 'sour', 'parameters', 'multicenter', 'effectiveness', 'transferred', 'nucleophilic', 'reactive', 'isomeric', 'interaction', 'centers', 'electronegativity', 'electron', 'isomers', 'vert', 'ble', 'fbs', 'rutin', 'orientin', 'dscle', 'arithmetic', 'ethylidene', 'butylidene', 'imino', 'warburg', 'controled', 'benzenethiol', 'sulfanylphenyl', 'pronounced', 'amel', 'essentially', 'nitrogen', 'thioethanoate', 'thioethanoic', 'sulphur', 'stet', 'methylpyridazin', 'synthesised', 'pyridazines', 'heteroaromatic', 'pairs', 'substituents', 'aza', 'tbt', 'ambt', 'mbtp', 'individual', 'pair', 'mep', 'hydrazono', 'synthetic', 'pma', 'potassium', 'folate', 'polaron', 'ap', 'dedoping', 'ppysh', 'substituted', 'pysh', 'nickel', 'teb', 'aqah', 'tbc', 'tetrabutyl', 'tmb', 'same', 'tbi', 'homogeneity', 'semicircular', 'powercorr', 'coarse', 'hydrochloridic', 'rolling', 'appears', 'bnipi', 'grain', 'cgipi', 'nanocrystallized', 'battery', 'pne', 'placed', 'sensitivity', 'piperidiniummethyl', 'temporary', 'conical', 'bung', 'aggregators', 'foils', 'lid', 'vcis', 'bpmu', 'vcim', 'vci', 'dπ', 'alkane', 'pπ', 'phosphonium', 'eff', 'btppb', 'triphenyl', 'crit', 'ituen', 'amitriptyline', 'solomon', 'ami', 'vertical', 'stg', 'singlet', 'pheniramine', 'triplet', 'phen', 'heal', 'cure', 'site', 'oa', 'microvascular', 'nanofibers', 'dcpd', 'puf', 'fibers', 'cnf', 'hnt', 'containers', 'allydene', 'journal', 'nâ', 'chennai', 'thirugnanaselvi', 'sulfonic', 'considers', 'polyester', 'primarily', 'hydrocarbon', 'wtloss', 'ethoxylated', 'chromium', 'pretreatments', 'fedrizzi', 'fluotitanate', 'fluotitanates', 'canteri', 'deflorian', 'baths', 'type', 'bath', 'oe', 'titanium', 'chromes', 'chromatized', 'sei', 'cdi', 'bonora', 'degreasing', 'snms', 'strips', 'expelling', 'propen', 'eo', 'metastable', 'throw', 'buffered', 'sn', 'unbuffered', 'kcl', 'coupling', 'perpendicular', 'distances', 'analyses', 'interactions', 'contact', 'theory', 'strengths', 'dtur', 'uracils', 'tur', 'dhur', 'aur', 'bcp', 'modes', 'mtur', 'chemistry', 'environment', 'fes', 'ospar', 'apei', 'dodecyl', 'mackinawite', 'head', 'mmyear', 'porosity', 'electropolymerized', 'δgmic', 'pentamine', 'oleamide', 'ellipsometry', 'monomolecular', 'resolved', 'angle', 'flufenamic', 'fluorine', 'intensity', 'pha', 'carboxyl', 'thickness', 'ellipsometric', 'ffa', 'obviously', 'tween', 'abdul', 'jamal', 'mmpa', 'sathiq', 'mannich', 'morpholine', 'anwar', 'acetamide', 'nasser', 'microhardness', 'anatase', 'gns', 'produced', 'succinic', 'decoupling', 'sbf', 'renewal', 'covered', 'octylthiopropionate', 'ahm', 'prepassivated', 'epma', 'photograph', 'disk', 'knife', 'passivated', 'scratches', 'btese', 'crosswise', 'otp', 'naotp', 'easier', 'centres', 'allotted', 'modifies', 'capacity', 'bandgap', 'pthd', 'bcinh', 'cetyl', 'oxyethylentated', 'trimethylolpropane', 'repeating', 'polyoxyethylenated', 'monolaurate', 'trimethylol', 'propane', 'oxyethylene', 'bisacodyl', 'bsc', 'levetiracetam', 'cinh', 'monoterpen', 'oxygenated', 'thujone', 'essential', 'artemisia', 'mesatlantica', 'ameo', 'amd', 'pyrite', 'props', 'zrps', 'za', 'moderate', 'moduli', 'mössbauer', 'firm', 'function', 'pcaip', 'pcaips', 'sacrificial', 'ocps', 'ies', 'thermometry', 'stems', 'devoid', 'reveals', 'mucilage', 'inspection', 'opuntia', 'return', 'toroid', 'lyapunov', 'prepassive', 'hbo', 'inner', 'repassivation', 'chaotic', 'silicate', 'oscillations', 'tritiated', 'tritium', 'ao', 'oxime', 'bo', 'corrodents', 'hbmb', 'weeks', 'tris', 'alkosol', 'trimethylsilyl', 'tap', 'tpoz', 'ttmsph', 'unplated', 'plated', 'plating', 'dcm', 'experimentation', 'four', 'lo', 'alky', 'ada', 'damborenea', 'otm', 'ddm', 'alkyi', 'hxm', 'scanned', 'features', 'captured', 'roughness', 'morphology', 'redeposited', 'baseline', 'scans', 'scraped', 'grows', 'growth', 'imaging', 'mode', 'images', 'scraping', 'acoustic', 'manipal', 'inulin', 'officinalis', 'sajce', 'salvia', 'chinensis', 'simmondsia', 'sasc', 'loto', 'abdallah', 'sequence', 'pitt', 'antihypertensive', 'trgo', 'heat', 'paaca', 'microwave', 'light', 'stimulus', 'fags', 'supercapacitor', 'external', 'bpei', 'excellent', 'rfgo', 'healable', 'hydrogel', 'stretchable', 'dapu', 'hydrogels', 'heterocyclic', 'irradiations', 'heating', 'verma', 'scheme', 'ratio', 'compactness', 'electrophoretic', 'btespt', 'mwcnts', 'triazoles', 'amtt', 'aett', 'cuclads', 'mercaptopropyltrimethoxysilane', 'hydrolyse', 'aminopropyltrimethoxysilane', 'pot', 'tptms', 'deta', 'aptms', 'added', 'promoter', 'glymo', 'linking', 'gelation', 'mbza', 'glycidoxypropyltrimethoxysilane', 'dimethylamino', 'benzamide', 'hydrazinyl', 'benzylidene', 'thermal', 'hippuric', 'dmb', 'oxo', 'halogeno', 'cia', 'fia', 'indazole', 'shu', 'æˆÿå', 'åº', 'dec', 'morinda', 'î¼fâ', 'mt', 'ae', 'aâ', 'krishnaveni', 'vâ', 'mgâ', 'model', 'faradaic', 'mac', 'powders', 'absorbing', 'line', 'fcm', 'bf', 'absorbents', 'absorbent', 'neighboring', 'macs', 'degeneration', 'transmission', 'producing', 'like', 'globular', 'lesser', 'topologies', 'grown', 'carboximethylcellulose', 'conductive', 'sixth', 'usa', 'load', 'loaded', 'cpecoat', 'nanoscratch', 'including', 'hdg', 'elapses', 'nc', 'nanomechanical', 'dip', 'nanoindentation', 'louis', 'pvp', 'adenine', 'pvpo', 'hm', 'pvpoxime', 'perfluorohexanesulfonyl', 'trimer', 'perfluoro', 'bfis', 'branched', 'sfis', 'fluorinated', 'hexafluoropropene', 'thiadiazin', 'triazolo', 'investigation', 'phthalazin', 'glutamic', 'leucine', 'naturally', 'phenylalanine', 'threonine', 'wca', 'diffraction', 'intelligent', 'wrap', 'frameworks', 'δt', 'tetraethyl', 'orthosilicate', 'electrochemically', 'profiles', 'ho', 'neutralised', 'cores', 'injected', 'beam', 'cover', 'alkalisation', 'viaduct', 'eii', 'carbonation', 'trial', 'railway', 'valence', 'predicted', 'coefficient', 'rd', 'don', 'frontier', 'acc', 'polarizability', 'greater', 'hindrance', 'topological', 'vif', 'variables', 'error', 'connectivity', 'steric', 'descriptors', 'ferula', 'ammerosinol', 'ammoniacum', 'foetida', 'oleo', 'resins', 'assa', 'exudate', 'exudates', 'constituent', 'reoriented', 'jojoba', 'pinene', 'camphene', 'bgugaine', 'davanone', 'cineol', 'terpinene', 'sefra', 'chrysanthenone', 'alba', 'herba', 'artemesia', 'algeria', 'ar', 'deionized', 'suspension', 'polycations', 'ns', 'nettle', 'polyelectrolyte', 'dtga', 'ne', 'nanoreservoir', 'nanoreservoirs', 'kinetics', 'edax', 'pollutants', 'levich', 'koutecky', 'ammoniac', 'raza', 'precursor', 'graphites', 'pgo', 'etal', 'ium', 'benzo', 'σv', 'triazine', 'kpfm', 'ecn', 'edp', 'sdps', 'σi', 'dalian', 'pits', 'tetraethoxysilane', 'tmoeo', 'dosage', 'flaky', 'condensation', 'compatibility', 'vinylsilane', 'clear', 'vtmoeo', 'methoxyethoxy', 'ethanol', 'precursors', 'duszczyk', 'fabricated', 'irons', 'arcs', 'particulates', 'kè', 'protec', 'huanhuan', 'chin', 'bolt', 'dized', 'ano', 'sion', 'anodized', 'anodizing', 'daysâ', 'corro', 'asm', 'sspc', 'painters', 'society', 'book', 'ohio', 'standards', 'brooman', 'plumbate', 'www', 'suboxide', 'chinese', 'york', 'japanese', 'international', 'national', 'finishing', 'transpassive', 'spectrophotométrique', 'identical', 'will', 'transient', 'boundaries', 'langmuirian', 'spectroelectrochemistry', 'selective', 'segregated', 'bulk', 'hmta', 'steady', 'simultaneous', 'emission', 'voltages', 'voltammograms', 'cms', 'uptake', 'αn', 'diffusive', 'bioactive', 'oomw', 'sitosterol', 'saliva', 'usd', 'sweet', 'amalgam', 'xrd', 'ptc', 'got', 'quality', 'year', 'rainfall', 'prepared', 'mortars', 'approximately', 'chlorides', 'resistivity', 'kω', 'mix', 'cse', 'mixes', 'marine', 'glc', 'sas', 'aagc', 'eec', 'elbows', 'number', 'nozzle', 'pipelines', 'aminododecanoic', 'impinging', 'regime', 'jet', 'numbers', 'turbulent', 'square', 'impingement', 'duct', 'addd', 'cuo', 'polyamide', 'hardener', 'kartsonakis', 'cemo', 'multifunctional', 'traps', 'sanchezis', 'schiffrin', 'kato', 'aminophenyl', 'apt', 'polyvinyl', '½h', 'awady', 'pvpma', 'forces', 'isotherms', 'exothermic', 'tannates', 'attractive', 'sights', 'apparent', 'δads', 'enthalpies', 'tannate', 'isosteric', 'lkp', 'yellow', 'nchn', 'pail', 'hcn', 'phenylmethanediamine', 'nanofiller', 'guest', 'tong', 'kosaria', 'inclusion', 'zou', 'pbtca', 'cd', 'dodecanthiol', 'shake', 'thiols', 'organothiols', 'polished', 'modifications', 'carbons', 'dodecanethiol', 'silver', 'nio', 'tetrachloride', 'toluene', 'nitrites', 'winterthur', 'stuttgart', 'ponded', 'delay', 'onset', 'hardened', 'admixtures', 'grunze', 'amas', 'brundle', 'zhw', 'sib', 'subintegra', 'agarwood', 'adenosine', 'sip', 'aquilaria', 'babolsar', 'mazandaran', 'sterile', 'nanohybrid', 'gly', 'leim', 'tafe', 'tani', 'dopa', 'packing', 'frequencies', 'intermodulation', 'ntg', 'indicates', 'benzylaminopurine', 'purine', 'baph', 'bap', 'aas', 'purple', 'pd', 'dithiocarbamate', 'dtc', 'mp', 'phenoxy', 'aloh', 'oxopentane', 'madrid', 'criado', 'tmos', 'aafa', 'opc', 'ηpol', 'decyl', 'tetrafluoroborate', 'ei', 'mtp', 'ptt', 'ceo', 'codeposition', 'hexagonal', 'needle', 'distribution', 'particle', 'advocates', 'incorporation', 'deposit', 'hkl', 'deposits', 'zeta', 'ceria', 'centre', 'profiling', 'several', 'indica', 'mixed', 'plants', 'gsm', 'phytochemicals', 'glucomannan', 'esters', 'konjac', 'polysaccharide', 'kgmh', 'kgma', 'kgm', 'all', 'reorganization', 'substituent', 'durable', 'durability', 'coherently', 'tot', 'mba', 'bt', 'fbt', 'sams', 'dca', 'thiolic', 'advancing', 'thiolate', 'cupric', 'cuprous', 'docx', 'imime', 'imih', 'bimh', 'unapparent', 'feco', 'hco', 'uncharged', 'transition', 'scc', 'epit', 'bicarbonate', 'trapped', 'carbonate', 'aipa', 'kinetic', 'ceftadizime', 'czd', 'md', 'nlo', 'hyperpolarizability', 'ecmhpa', 'photoluminescence', 'dimer', 'phellodendron', 'chinense', 'schneid', 'engineering', 'sichuan', 'pcs', 'zigong', 'halloysite', 'hnts', 'bhns', 'bhn', 'basil', 'phenothiazin', 'δgads', 'removal', 'mar', 'fluctuations', 'dimethylamin', 'nutrient', 'microorganisms', 'aeromonas', 'broth', 'inoculation', 'qcm', 'salmonicida', 'bacterium', 'inoculated', 'michiganensis', 'clavibacter', 'abdennabi', 'microanalysis', 'bbdbt', 'api', 'mtac', 'hbt', 'mercaptobenzoimidazole', 'cmâˆ', 'å½', 'dong', 'adipic', 'rb', 'œå', 'ying', 'äºœé', 'galvanostatically', 'μm', 'ultrasounds', 'waves', 'macm', 'kangas', 'eﬀect', 'crease', 'electrochim', 'sekine', 'teeple', 'technol', 'mater', 'singh', 'diﬀerent', 'acryl', 'subhashini', 'gravimetry', 'vsa', 'pva', 'geethanjali', 'change', 'interval', 'terraces', 'adlayer', 'edges', 'ec', 'tunneling', 'monoatomic', 'mphtt', 'corroded', 'nhq', 'quinoline', 'lap', 'dihydrate', 'dependence', 'desorption', 'expense', 'brines', 'mercaptopyrimidine', 'spectrometry', 'brineing', 'mercaptopyrimidines', 'lb', 'highest', 'heyrowsky', 'volmer', 'mhad', 'propolis', 'stirring', 'tetraborate', 'exp', 'prefer', 'crotyl', 'weak', 'δm', 'developed', 'coulometric', 'plateaus', 'btaoh', 'umoren', 'agnps', 'honey', 'gerengi', 'nam', 'panipvc', 'cupping', 'encounter', 'front', 'influential', 'ψe', 'ψi', 'zpa', 'naderi', 'hydrate', 'orthophosphate', 'zam', 'zcp', 'transference', 'exponential', 'lnk', 'onto', 'might', 'hf', 'stearic', 'frignani', 'stearate', 'atc', 'poornima', 'physisorption', 'kad', 'methanolic', 'rin', 'mape', 'chlrogenic', 'catechin', 'dap', 'isorhamnetin', 'almond', 'rutinoside', 'aape', 'trigalloylglucose', 'vivas', 'ttg', 'mechanics', 'galloyl', 'chestnut', 'dgg', 'gallic', 'vescalin', 'modeling', 'pentagalloylglucose', 'mgg', 'castalagin', 'tgg', 'glucose', 'conformations', 'vescalagin', 'castalin', 'ellagic', 'nddo', 'mbtah', 'sorbate', 'bar', 'accelerated', 'multiplex', 'cracking', 'proprietary', 'uncontaminated', 'mpy', 'sat', 'chirality', 'δnmax', 'δψ', 'δeb', 'sdd', 'dihydroquinoline', 'citrulline', 'wmse', 'wmpe', 'raspings', 'ethylation', 'participation', 'dedtc', 'kcns', 'hydrogenation', 'phenylalkenes', 'terphenyl', 'cinnamic', 'citral', 'crotonaldehyde', 'transformations', 'acetylene', 'unsaturated', 'aldehydes', 'aca', 'transformation', 'aldehyde', 'loops', 'pu', 'panel', 'chromated', 'yc', 'bc', 'black', 'recorded', 'sω', 'withstands', 'chromatation', 'galvanized', 'ra', 'aluzink', 'employee', 'estimations', 'utilized', 'coupon', 'dinitrophenyl', 'thiadiazol', 'indolin', 'tdio', 'hydrated', 'oce', 'plf', 'rc', 'sulfonated', 'aminobenzenesulfonic', 'ningbo', 'spani', 'rabat', 'triazepin', 'triazolotriazepine', 'tty', 'biocidal', 'bichalcophene', 'bifuran', 'fluorophenyl', 'kcorr', 'bithiophene', 'bichalcophenes', 'crosslinking', 'pdms', 'indentation', 'hmmm', 'dsc', 'bz', 'benzoxazine', 'philippines', 'htbd', 'rubber', 'prp', 'pbz', 'areas', 'alibakhshi', 'ï¼', 'åˆ', 'å¾', 'qing', 'xiu', 'hui', 'jun', 'æž', 'xue', 'æˆ', 'šè', 'œæ', 'cuso', 'overpotential', 'pipe', 'work', 'trefoil', 'fungi', 'manufacturer', 'qarun', 'accords', 'sulfric', 'regression', 'pan', 'toxicity', 'zbtc', 'multisine', 'variance', 'pyrazine', 'differential', 'orp', 'μf', 'mmtd', 'amtd', 'solid', 'parameswari', 'πcmc', 'monoamide', 'ηw', 'dimethanol', 'benzyledene', 'various', 'etc', 'ehomo', 'hmatd', 'hydrazinecarbonyl', 'mbg', 'vaterite', 'microbeads', 'sensitive', 'dmtd', 'dimercapto', 'sal', 'thiadiazolate', 'salicylaldoxime', 'cuc', 'thiazolyl', 'electrodissolution', 'kcalmol', 'forcefield', 'methylpyrrolidin', 'potentials', 'normality', 'ptn', 'mmo', 'ctf', 'ctn', 'ctz', 'ptf', 'behnken', 'ptz', 'scales', 'urg', 'geothermal', 'na', 'respiration', 'fesem', 'aerobic', 'consortium', 'irb', 'biotic', 'oneidensis', 'abiotic', 'brevibacillus', 'pae', 'dnac', 'duac', 'disorderness', 'phenylimino', 'orderliness', 'fluorobenzyl', 'fbmim', 'schrodinger', 'suite', 'physic', 'access', 'bmim', 'mip', 'workability', 'ages', 'dosages', 'hydrotalcites', 'app', 'rcm', 'mht', 'mhts', 'flexural', 'exocyclic', 'imfp', 'mbih', 'mboh', 'mbth', 'sols', 'propoxide', 'zr', 'polyphosphate', 'sandu', 'pull', 'jx', 'randic', 'deviations', 'lauric', 'gapc', 'gapm', 'cal', 'index', 'carboxy', 'eiss', 'gd', 'aminopropyltriethoxysilicate', 'package', 'apts', 'mptt', 'bismuthiol', 'labyrinth', 'nanorods', 'polymerisation', 'released', 'epr', 'phcp', 'methylphosphonic', 'dialkyl', 'pcu', 'potentiometric', 'titrations', 'chp', 'diastereoisomer', 'diethyl', 'naod', 'pycp', 'dd', 'iminobisphosphonic', 'glycol', 'villamil', 'dithiol', 'couple', 'decanoic', 'ox', 'decanoate', 'nrcycle', 'hanks', 'nrcycles', 'infused', 'infusion', 'salinity', 'superhydrophobicity', 'slippery', 'droplet', 'realize', 'biocorrosion', 'slips', 'shp', 'superhydrophobic', 'cuzn', 'favourite', 'pyrazolic', 'obeys', 'lrp', 'touzani', 'pyrazole', 'elkodadi', 'nitrogenes', 'bouabdallah', 'bipyrazolic', 'bipyrazole', 'bipya', 'optimised', 'rs', 'ts', 'polyethyleneimine', 'persistency', 'pei', 'assisted', 'ultrasonic', 'bhanvase', 'cavitational', 'semibatch', 'zm', 'lpg', 'dbv', 'engraved', 'slowly', 'dropped', 'ditch', 'chromic', 'diagram', 'traditional', 'lf', 'part', 'lixiviation', 'anodization', 'times', 'fillers', 'empirical', 'semi', 'ranged', 'proposed', 'lser', 'ccr', 'mindo', 'cloxacillin', 'cefotaxime', 'asymmetric', 'vibrations', 'apdtc', 'ddtc', 'zab', 'card', 'technique', 'electric', 'multisinusoid', 'deis', 'dynamic', 'stationary', 'acquired', 'dispersion', 'scars', 'noncovalent', 'rcoat', 'friction', 'butylaniline', 'polyimide', 'wear', 'zƒ', 'dagdag', 'mc', 'gaza', 'north', 'university', 'adiabatic', 'ers', 'triazin', 'condensed', 'dihydroxy', 'dmstt', 'indicated', 'phenylen', 'benzophenone', 'acetylacetone', 'salicylidenimine', 'ethylen', 'theta', 'feed', 'der', 'waals', 'nanjing', 'elements', 'rdf', 'void', 'literatures', 'glycidoxypropyltrimethoxy', 'organofunctional', 'alkoxy', 'xo', 'cured', 'alodine', 'sgl', 'sgo', 'filiform', 'harrison', 'sgh', 'soll', 'months', 'solm', 'solh', 'gixrd', 'topography', 'property', 'improvement', 'nacorr', 'compared', 'worlee', 'casablanca', 'crosslinked', 'usually', 'formulating', 'formulated', 'blend', 'citric', 'recirculating', 'isothiazolone', 'acrylate', 'microorganism', 'blended', 'inhib', 'embedding', 'premature', 'zeolitic', 'framework', 'zif', 'anhydride', 'emphasized', 'orientation', 'tmtu', 'coadsorption', 'parsons', 'mercury', 'domination', 'strongest', 'tetramethylthiourea', 'substances', 'repulsive', 'dependencies', 'tb', 'electrochem', 'ketonic', 'ds', 'secondary', 'mostafa', 'dh', 'elewady', 'dg', 'bicyclic', 'quinoid', 'benzothiadiazole', 'heterocycle', 'lone', 'btd', 'stimulator', 'aggregates', 'sweden', 'iras', 'generalised', 'teta', 'glutamate', 'mf', 'polycationic', 'hexhydrate', 'bacteriostatic', 'mua', 'benzylimino', 'elemike', 'tolylimino', 'bmpol', 'pmpol', 'tmpol', 'conacyt', 'isomer', 'fi', 'npa', 'fraction', 'thiatriazole', 'thiopropionate', 'nabz', 'nads', 'chelate', 'suppressed', 'qoh', 'qo', 'flaked', 'supplementary', 'psed', 'dental', 'implant', 'implants', 'hydroxyl', 'bifunctional', 'appa', 'pristine', 'thin', 'wettability', 'eocp', 'micelles', 'microstructural', 'opcvc', 'hereby', 'opcvn', 'opcvcn', 'conditioning', 'opcv', 'opcn', 'vesicles', 'reinforced', 'corroding', 'paste', 'empty', 'peo', 'pleasecheck', 'hmbt', 'mhbt', 'benzaldehyde', 'binzhou', 'hfs', 'alohads', 'methoxy', 'hads', 'rows', 'photoelectron', 'bisglycinate', 'viscosity', 'polyethylene', 'negm', 'sebacic', 'circuito', 'linoleic', 'laam', 'hispanica', 'mexico', 'la', 'autonoma', 'chihuahua', 'universidad', 'racemic', 'enantiomers', 'theor', 'amisulpride', 'spectrophotometric', 'dilute', 'within', 'host', 'cyclodextrins', 'organo', 'mercaptobenzothiazole', 'complexation', 'snap', 'cyclodextrin', 'densely', 'receding', 'hydroxamic', 'conhoh', 'micelle', 'nai', 'nabr', 'partially', 'moved', 'heptamolybdate', 'saltwater', 'offshore', 'pendant', 'alloyed', 'thecorrosion', 'thev', 'onthe', 'thefollowing', 'thatthe', 'coppercorrosion', 'oph', 'his', 'histidine', 'pph', 'oecs', 'nanofillers', 'cnfs', 'pinus', 'skp', 'radiata', 'epx', 'concepcion', 'funct', 'chile', 'mixtures', 'pyrazolone', 'pyrazolones', 'comp', 'hp', 'color', 'δb', 'weathered', 'quv', 'guilin', 'ka', 'oilfield', 'simulative', 'ccn', 'cco', 'eads', 'tilt', 'formulate', 'cabinet', 'formations', 'tan', 'bp', 'doublets', 'sets', 'sulfonamidomethylphosphonates', 'aryl', 'holding', 'exchange', 'vitreous', 'cycled', 'cycling', 'withdrawing', 'derivative', 'ylmethylidene', 'thiophen', 'manchester', 'markers', 'producción', 'termination', 'θe', 'insoluble', 'indium', 'tptz', 'curtin', 'dpc', 'qads', 'cpc', 'wenhua', 'ohm', 'intermetallics', 'almn', 'northeastern', 'cpecorr', 'shenyang', 'heddb', 'seats', 'sharp', 'powder', 'corners', 'furniture', 'garden', 'chamber', 'cataphoresis', 'faradic', 'brugal', 'rust', 'stretched', 'really', 'geometry', 'galvanised', 'stamped', 'utm', 'pvdf', 'mhz', 'cichorium', 'intybus', 'arc', 'zincite', 'spraying', 'qt', 'possessed', 'nanocontainer', 'msinh', 'immobilized', 'mesoporous', 'diamines', 'cyanomethyl', 'circles', 'bind', 'trithiocyanuric', 'ttca', 'freshly', 'against', 'nobler', 'seen', 'prh', 'polyrhodanine', 'emitted', 'flowrates', 'hazardous', 'nominal', 'fc', 'recirculation', 'qoffg', 'fgr', 'pcdd', 'vector', 'afs', 'regulation', 'fluegas', 'combustor', 'compliance', 'flowrate', 'apcs', 'offgas', 'af', 'dioxins', 'emissions', 'oxidic', 'elec', 'java', 'appl', 'con', 'tirunelveli', 'gua', 'pillai', 'kumar', 'thusnavis', 'guajava', 'nagercoil', 'india', 'psidium', 'ecofriendly', 'noorul', 'portug', 'polarizer', 'ellipsometer', 'spectroscopic', 'about', 'refractive', 'pastilles', 'pastille', 'constants', 'heptanoate', 'chimie', 'paristech', 'asw', 'bsa', 'orc', 'enhancement', 'roughened', 'roughening', 'synergetic', 'sef', 'vibrational', 'electrolytes', 'polarized', 'once', 'window', 'polyoxyethylen', 'gafac', 'hrsem', 'marked', 'pmi', 'tolyl', 'tmi', 'hour', 'imidazoles', 'spindle', 'mist', 'blisters', 'pvcpani', 'gloss', 'torch', 'atmospheric', 'relaxation', 'siloxy', 'organosilicon', 'hmdso', 'hmdsn', 'esi', 'pyramid', 'hydroxypropiophenone', 'enolization', 'transitions', 'phenoxo', 'bridged', 'tddft', 'hhbpp', 'phenolate', 'pune', 'vishwakarma', 'yr', 'pac', 'thermogram', 'octyl', 'omic', 'methylimidazolium', 'bmic', 'hmic', 'nme', 'lying', 'surf', 'display', 'btao', 'molh', 'pbe', 'solv', 'deprotonated', 'anticipated', 'hsab', 'uniform', 'cct', 'agw', 'gulf', 'atat', 'arabian', 'cpp', 'inset', 'tl', 'atomistic', 'models', 'computational', 'pabs', 'cnt', 'young', 'stable', 'dipping', 'dubey', 'notoya', 'nima', 'sainkar', 'hexadecylaniline', 'blodgett', 'hysterics', 'patil', 'subphase', 'jaiswal', 'docosanol', 'hplc', 'freeze', 'phenolics', 'chlorogenic', 'grounds', 'decoction', 'spent', 'coffee', 'abi', 'tbia', 'bbia', 'pges', 'tetrabutylammonium', 'pyren', 'pencil', 'supercapacitors', 'tbap', 'pge', 'pthp', 'conjugated', 'entropies', 'anns', 'iminic', 'obs', 'cns', 'tns', 'apns', 'ans', 'ginkgolides', 'flavonoids', 'ginkgo', 'gle', 'markedly', 'deoxygenated', 'benzenediazonium', 'bonded', 'deaerated', 'tbafb', 'tdfb', 'resonator', 'puh', 'microbalance', 'spontaneous', 'cias', 'cntq', 'tunisian', 'ferrogard', 'alkanolamine', 'gendy', 'cantaloupe', 'melon', 'mole', 'sm', 'phosphono', 'pppa', 'piperazin', 'chung', 'hulls', 'rice', 'momilactone', 'finite', 'inert', 'diffusates', 'fwss', 'behaviors', 'diff', 'fickian', 'varnish', 'lnc', 'sorption', 'fld', 'indicating', 'gdoes', 'pointing', 'tmm', 'tm', 'defective', 'mma', 'pyrimidinethiol', 'kohn', 'pimeloyl', 'orbitals', 'oxalyl', 'functional', 'dihydroxamic', 'form', 'theorem', 'nmpy', 'pnmpy', 'rsm', 'clopidogrel', 'sfg', 'hydroxybenzaldimine', 'methylbut', 'chiral', 'dpv', 'hcs', 'uncertainty', 'vap', 'standard', 'benzofuran', 'uncertainties', 'melting', 'bomb', 'fus', 'combustion', 'sublimation', 'convolution', 'cycle', 'overoxidized', 'βtot', 'ringiii', 'phi', 'bd', 'benzoxazole', 'ethylsulphonyl', 'phii', 'гmax', 'ccmc', 'siii', 'sii', 'nondesaerated', 'gatom', 'mols', 'backward', 'chromone', 'urispas', 'iert', 'oleate', 'iew', 'so', 'pennyroyal', 'visnaga', 'albus', 'mint', 'ferrous', 'toxic', 'pulrgium', 'seeds', 'mentioned', 'sources', 'usage', 'friendly', 'imperfection', 'bifluoride', 'fluoride', 'un', 'whatever', 'phosphatation', 'diacrylate', 'remained', 'phosphorous', 'tdp', 'mop', 'max', 'fluoroaniline', 'fuzhou', 'fujian', 'lacquer', 'fani', 'ls', 'pf', 'double', 'software', 'toluidine', 'figs', 'ethylaniline', 'chloroaniline', 'anilines', 'aminophenetole', 'aminoanisole', 'obot', 'papageorgiou', 'alginate', 'mu', 'tetradecylpyridinium', 'tdpb', 'ethylthio', 'nppd', 'aetda', 'guangxi', 'dehydroabietylamine', 'dmp', 'posited', 'beneath', 'eb', 'lignosulfonate', 'lgs', 'jeollabuk', 'salem', 'deokjin', 'daero', 'fisheries', 'baekje', 'kesavan', 'divaricata', 'morus', 'µω', 'maple', 'pendula', 'thermogravimetric', 'anisidine', 'pgep', 'wep', 'phloroglucinol', 'pghep', 'spices', 'lbl', 'carbides', 'turkey', 'nanomaterials', 'ani', 'associated', 'trimethylxanthine', 'chronoamperometric', 'caffeine', 'vanadium', 'lysine', 'nst', 'glutamine', 'benzenesulphonyl', 'aspartic', 'msa', 'geesthacht', 'tetraphosphonate', 'edtmp', 'hdtmp', 'tetraphosphonic', 'tetraphosphonates', 'amended', 'moieties', 'hetero', 'glutathione', 'tripeptide', 'arylazothiazole', 'cleaning', 'monomeric', 'aminoquinoline', 'nq', 'enig', 'multi', 'nip', 'traces', 'trace', 'singapore', 'conformal', 'sweat', 'mid', 'mids', 'combined', 'ebi', 'hydnh', 'stripes', 'mineral', 'protons', 'dione', 'dioxo', 'hydantoin', 'oco', 'chloro', 'diphenylhydantoin', 'hnco', 'nhco', 'thiazolidine', 'diphenylimidazolidin', 'quin', 'imide', 'stripe', 'titration', 'decanted', 'mud', 'bayer', 'bauxite', 'stirred', 'hidroxides', 'rm', 'hgo', 'boehmite', 'ree', 'desorbed', 'gobi', 'gobice', 'goce', 'gocebi', 'desai', 'canb', 'aminium', 'diylbis', 'oxoethane', 'chogs', 'diyl', 'cyclohexane', 'cvs', 'oxidative', 'depositions', 'sch', 'phenylethyl', 'measurement', 'dibenzyldithiophosphate', 'meanwhile', 'diphenyldithiophosphate', 'dialkyldithiophosphate', 'kongkathip', 'moubaraki', 'noor', 'hussin', 'kassim', 'tinospora', 'crispa', 'tcdw', 'tcaw', 'mo', 'otaigbe', 'bark', 'barks', 'mi', 'victoria', 'rem', 'deakin', 'crystallization', 'exchanged', 'homoionic', 'beidellite', 'clay', 'bdt', 'simonkolleite', 'hydrozincite', 'calcite', 'biocompatibility', 'heparin', 'hemolysis', 'chi', 'multilayer', 'platelet', 'endothelial', 'blood', 'phosphonohexadecanoic', 'cck', 'proliferation', 'ethane', 'well', 'dimethylhexadecylammonium', 'qc', 'fgnp', 'tpp', 'stpp', 'thiadiazloe', 'anpt', 'ampt', 'pécs', 'engenharia', 'bazzaoui', 'nucleophilicity', 'kaya', 'rw', 'bqpa', 'qb', 'qbpa', 'bq', 'bts', 'abt', 'aminobenzothiazole', 'qdl', 'capacitive', 'dicarboxylate', 'prz', 'arctg', 'arg', 'tioh', 'serum', 'δf', 'tiop', 'bovine', 'physiological', 'proteins', 'albumin', 'compact', 'inclined', 'becomes', 'tank', 'lvt', 'psi', 'mpeg', 'cho', 'csla', 'csoa', 'amidated', 'nanogels', 'amphiphilic', 'butyric', 'toc', 'exfoliation', 'platelets', 'spacing', 'iba', 'mmt', 'interpenetrating', 'prohibit', 'insulating', 'electropolymerised', 'entrance', 'styrene', 'butadiene', 'sbr', 'packaging', 'microelectronics', 'reflection', 'pad', 'quan', 'oi', 'tcorr', 'pyridazino', 'ppi', 'cuni', 'passivating', 'libr', 'nickels', 'badr', 'shukla', 'potentio', 'lagrenee', 'hexa', 'hmdtmp', 'splitting', 'pds', 'ricinine', 'communis', 'peridinium', 'back', 'octylpyridin', 'dodecylpyridin', 'softness', 'δegap', 'δeback', 'ionization', 'alkylpyridin', 'adsorptivity', 'pzs', 'pz', 'pyrazol', 'cpb', 'penh', 'pentazole', 'imi', 'mbnh', 'hbnh', 'amidoamines', 'tofa', 'fluid', 'glt', 'wash', 'uyo', 'azedarach', 'lgz', 'lgf', 'melia', 'enable', 'smm', 'smms', 'heals', 'hollow', 'cycloaddition', 'virgin', 'supramolecular', 'toughness', 'dhp', 'benzotriozole', 'salvalonic', 'tu', 'tafelian', 'cpii', 'nanocrystallization', 'bnii', 'nyqusit', 'aplicada', 'dibencilimidazolio', 'dbima', 'dbiml']\n"
     ]
    }
   ],
   "source": [
    "words = good_words(mat,vocab,50,5000)\n",
    "print(words)"
   ]
  },
  {
   "cell_type": "code",
   "execution_count": null,
   "metadata": {},
   "outputs": [],
   "source": []
  }
 ],
 "metadata": {
  "kernelspec": {
   "display_name": "Python 3",
   "language": "python",
   "name": "python3"
  },
  "language_info": {
   "codemirror_mode": {
    "name": "ipython",
    "version": 3
   },
   "file_extension": ".py",
   "mimetype": "text/x-python",
   "name": "python",
   "nbconvert_exporter": "python",
   "pygments_lexer": "ipython3",
   "version": "3.7.4"
  }
 },
 "nbformat": 4,
 "nbformat_minor": 4
}
