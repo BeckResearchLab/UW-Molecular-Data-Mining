{
 "cells": [
  {
   "cell_type": "code",
   "execution_count": 56,
   "metadata": {},
   "outputs": [],
   "source": [
    "import numpy as np\n",
    "import pandas as pd\n",
    "import sklearn\n",
    "import os \n",
    "cwd = os.getcwd()\n",
    "newpath = '/Users/DavidJuergens/Google Drive File Stream/Shared drives/ChemE NLP Team Drive/Flame Retardants/'\n",
    "os.chdir(newpath)\n",
    "file1 = open('flame_retardant_texts.txt','r')\n",
    "os.chdir(cwd)"
   ]
  },
  {
   "cell_type": "code",
   "execution_count": 57,
   "metadata": {},
   "outputs": [],
   "source": [
    "publist = []\n",
    "for pub in file1:\n",
    "    publist.append(pub)"
   ]
  },
  {
   "cell_type": "code",
   "execution_count": 58,
   "metadata": {},
   "outputs": [
    {
     "data": {
      "text/plain": [
       "10786"
      ]
     },
     "execution_count": 58,
     "metadata": {},
     "output_type": "execute_result"
    }
   ],
   "source": [
    "len(publist)"
   ]
  },
  {
   "cell_type": "code",
   "execution_count": 102,
   "metadata": {},
   "outputs": [
    {
     "data": {
      "text/plain": [
       "162"
      ]
     },
     "execution_count": 102,
     "metadata": {},
     "output_type": "execute_result"
    }
   ],
   "source": [
    "# if the texts are all loaded into a dataframe, this is a useful method of counting occurences of substrings\n",
    "np.sum(df[0].str.count('novel flame retardant'))"
   ]
  },
  {
   "cell_type": "code",
   "execution_count": 5,
   "metadata": {},
   "outputs": [],
   "source": [
    "def find_nth(haystack, needle, n):\n",
    "    start = haystack.find(needle)\n",
    "    while start >= 0 and n > 1:\n",
    "        start = haystack.find(needle, start+len(needle))\n",
    "        n -= 1\n",
    "    return start"
   ]
  },
  {
   "cell_type": "code",
   "execution_count": 40,
   "metadata": {},
   "outputs": [],
   "source": [
    "def clean_paper(paper):\n",
    "    if paper.lower().count('highlights') != 0:\n",
    "        hind = paper.lower().find('highlights')\n",
    "        paper = paper[hind + len('highlights'):]\n",
    "        \n",
    "    elif paper.lower().count('abstract') != 0:\n",
    "        aind = paper.lower().find('abstract')\n",
    "        paper = paper[aind + len('abstract'):]\n",
    "        \n",
    "    elif paper.lower().count('introduction') != 0:\n",
    "        iind = find_nth(paper.lower(),'introduction',2)\n",
    "        paper = paper[iind + len('introduction'):]\n",
    "        \n",
    "    else:\n",
    "        pass\n",
    "    \n",
    "    rind = paper.rfind('References')\n",
    "    paper = paper[:rind]\n",
    "    return paper\n",
    "\n",
    "        "
   ]
  },
  {
   "cell_type": "code",
   "execution_count": 59,
   "metadata": {},
   "outputs": [],
   "source": [
    "cleaned_pubs = []\n",
    "for pub in publist:\n",
    "    cleaned_pubs.append(clean_paper(pub))"
   ]
  },
  {
   "cell_type": "code",
   "execution_count": null,
   "metadata": {},
   "outputs": [],
   "source": []
  },
  {
   "cell_type": "code",
   "execution_count": 60,
   "metadata": {},
   "outputs": [
    {
     "data": {
      "text/plain": [
       "'/Volumes/GoogleDrive/Shared drives/ChemE NLP Team Drive/Flame Retardants'"
      ]
     },
     "execution_count": 60,
     "metadata": {},
     "output_type": "execute_result"
    }
   ],
   "source": [
    "os.chdir(newpath)\n",
    "os.getcwd()"
   ]
  },
  {
   "cell_type": "code",
   "execution_count": 61,
   "metadata": {},
   "outputs": [],
   "source": [
    "file2 = open('cleaned_flame_retardant_texts.txt','w')"
   ]
  },
  {
   "cell_type": "code",
   "execution_count": 62,
   "metadata": {},
   "outputs": [],
   "source": [
    "for j in range(len(cleaned_pubs)):\n",
    "    file2.write(cleaned_pubs[j])\n",
    "    file2.write('\\n')"
   ]
  },
  {
   "cell_type": "code",
   "execution_count": 63,
   "metadata": {},
   "outputs": [],
   "source": [
    "file2.close()"
   ]
  },
  {
   "cell_type": "code",
   "execution_count": null,
   "metadata": {},
   "outputs": [],
   "source": []
  }
 ],
 "metadata": {
  "kernelspec": {
   "display_name": "Python 3",
   "language": "python",
   "name": "python3"
  },
  "language_info": {
   "codemirror_mode": {
    "name": "ipython",
    "version": 3
   },
   "file_extension": ".py",
   "mimetype": "text/x-python",
   "name": "python",
   "nbconvert_exporter": "python",
   "pygments_lexer": "ipython3",
   "version": "3.7.3"
  }
 },
 "nbformat": 4,
 "nbformat_minor": 2
}
