{
 "cells": [
  {
   "cell_type": "markdown",
   "metadata": {},
   "source": [
    "## This notebook is for grabbing and viewing information about meta and full corpora."
   ]
  },
  {
   "cell_type": "code",
   "execution_count": 16,
   "metadata": {},
   "outputs": [],
   "source": [
    "import os\n",
    "import json\n",
    "import time"
   ]
  },
  {
   "cell_type": "code",
   "execution_count": 17,
   "metadata": {},
   "outputs": [],
   "source": [
    "def absoluteFilePaths(directory):\n",
    "    for dirpath,_,filenames in os.walk(directory):\n",
    "        for f in filenames:\n",
    "            yield os.path.abspath(os.path.join(dirpath, f))"
   ]
  },
  {
   "cell_type": "code",
   "execution_count": 18,
   "metadata": {},
   "outputs": [],
   "source": [
    "def corpus_stats(corp_path):\n",
    "    \"\"\"\n",
    "    This method loops through a directory which contains either a meta corpus or a full corpus from pybliometrics/Elsevier Fulltext.\n",
    "    \n",
    "    Parameters:\n",
    "    ___________\n",
    "    corp_path(str, required): \n",
    "    \"\"\"\n",
    "    pub_count = 0      # number of publications in the corpus\n",
    "    j_count = 0        # number of journals\n",
    "    ab_count = 0       # number of abstracts\n",
    "    ft_count = 0       # number of full-texts\n",
    "    timestamp = time.time()\n",
    "    \n",
    "    for j_name in os.listdir(corp_path):\n",
    "        j_count += 1   \n",
    "        \n",
    "        j_dir_path = f'{corp_path}/{j_name}' # path to the directory corresponding to that journal\n",
    "        \n",
    "        for file in absoluteFilePaths(j_dir_path): # make a list of all files in this journal directory\n",
    "            if '.json' in file and '._' not in file:\n",
    "                j_json = file\n",
    "                break\n",
    "     \n",
    "        with open(j_json) as json_file:\n",
    "            data = json.load(json_file)\n",
    "        \n",
    "        for year in data:\n",
    "            year_dict = data[year]\n",
    "            \n",
    "            for pub_number in year_dict:\n",
    "                pub_count += 1\n",
    "                ab_count += 1\n",
    "                \n",
    "                \n",
    "                try:\n",
    "                    text = data[year][pub_number]['fulltext']\n",
    "                    ft_count += 1\n",
    "                \n",
    "                except: # there wasn't a full text retrieved for this doc\n",
    "                    pass\n",
    "    \n",
    "    return {'num_journals':j_count,'num_abstracts':ab_count,'num_fulltexts':ft_count,'time.time()':timestamp}\n",
    "        "
   ]
  },
  {
   "cell_type": "code",
   "execution_count": 19,
   "metadata": {},
   "outputs": [
    {
     "data": {
      "text/plain": [
       "{'num_journals': 364,\n",
       " 'num_abstracts': 1179541,\n",
       " 'num_fulltexts': 8978,\n",
       " 'time.time()': 1579808756.444061}"
      ]
     },
     "execution_count": 19,
     "metadata": {},
     "output_type": "execute_result"
    }
   ],
   "source": [
    "corpus_stats('/Volumes/My Passport/Davids Stuff/fulltext_pOmOmOo')"
   ]
  },
  {
   "cell_type": "code",
   "execution_count": null,
   "metadata": {},
   "outputs": [],
   "source": []
  }
 ],
 "metadata": {
  "kernelspec": {
   "display_name": "Python 3",
   "language": "python",
   "name": "python3"
  },
  "language_info": {
   "codemirror_mode": {
    "name": "ipython",
    "version": 3
   },
   "file_extension": ".py",
   "mimetype": "text/x-python",
   "name": "python",
   "nbconvert_exporter": "python",
   "pygments_lexer": "ipython3",
   "version": "3.7.4"
  }
 },
 "nbformat": 4,
 "nbformat_minor": 4
}
