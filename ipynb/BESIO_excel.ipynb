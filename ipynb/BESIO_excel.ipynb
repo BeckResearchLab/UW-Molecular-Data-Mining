{
 "cells": [
  {
   "cell_type": "code",
   "execution_count": 1,
   "metadata": {},
   "outputs": [],
   "source": [
    "# this notebook can be used to take .txt papers and put them in excel files for labelling "
   ]
  },
  {
   "cell_type": "code",
   "execution_count": 42,
   "metadata": {},
   "outputs": [
    {
     "data": {
      "text/plain": [
       "'/Users/DavidJuergens/Desktop/BETO2020/ipynb'"
      ]
     },
     "execution_count": 42,
     "metadata": {},
     "output_type": "execute_result"
    }
   ],
   "source": [
    "import os\n",
    "import numpy as np\n",
    "import pandas as pd\n",
    "os.getcwd()"
   ]
  },
  {
   "cell_type": "code",
   "execution_count": 43,
   "metadata": {},
   "outputs": [],
   "source": [
    "# grab path to the rank 2 corpus file\n",
    "rk2_path = '/Users/DavidJuergens/Google Drive File Stream/Shared drives/ChemE NLP Team Drive/Corrosion Inhibitors/'"
   ]
  },
  {
   "cell_type": "code",
   "execution_count": 44,
   "metadata": {},
   "outputs": [],
   "source": [
    "# open the file with the rank 2 pubs\n",
    "file = open(rk2_path + 'rank-2-CIpubs.txt')"
   ]
  },
  {
   "cell_type": "code",
   "execution_count": 45,
   "metadata": {},
   "outputs": [],
   "source": [
    "# create a list of all the pubs\n",
    "pubs = []\n",
    "for pub in file:\n",
    "    pubs.append(pub)"
   ]
  },
  {
   "cell_type": "code",
   "execution_count": 26,
   "metadata": {},
   "outputs": [],
   "source": [
    "# if you want to show examples of papers and search through them \n",
    "# pubs[0]"
   ]
  },
  {
   "cell_type": "code",
   "execution_count": 77,
   "metadata": {},
   "outputs": [],
   "source": [
    "def create_excel(pub_list,path):\n",
    "    df_master = pd.DataFrame() # preallocate space in dataframe for each paper\n",
    "    count = 0\n",
    "    with pd.ExcelWriter(path) as writer:\n",
    "        for pub in pub_list:\n",
    "            splits = pub.split() # make a list of tokens in pub\n",
    "            df = pd.DataFrame(splits) # shove into DF\n",
    "            df_master = pd.concat([df_master,df], axis = 1, ignore_index = True) # concat with master \n",
    "            count += 1\n",
    "            \n",
    "            df.to_excel(writer, sheet_name= 'Sheet' + str(count))\n",
    "     \n",
    "            \n",
    "        \n",
    "    return df_master\n",
    "    \n",
    "    "
   ]
  },
  {
   "cell_type": "code",
   "execution_count": 78,
   "metadata": {},
   "outputs": [],
   "source": [
    "test_path = '/Users/DavidJuergens/Desktop/test_excel.xlsx'\n",
    "test_pubs = pubs[:20]"
   ]
  },
  {
   "cell_type": "code",
   "execution_count": 79,
   "metadata": {},
   "outputs": [],
   "source": [
    "test_df = create_excel(test_pubs,test_path)"
   ]
  },
  {
   "cell_type": "code",
   "execution_count": 86,
   "metadata": {},
   "outputs": [
    {
     "data": {
      "text/plain": [
       "315     bridging\n",
       "316    bidentate\n",
       "317           or\n",
       "318          N(1\n",
       "319     )(2)(3)3\n",
       "Name: 0, dtype: object"
      ]
     },
     "execution_count": 86,
     "metadata": {},
     "output_type": "execute_result"
    }
   ],
   "source": [
    "test_df.iloc[315:320,0]"
   ]
  },
  {
   "cell_type": "code",
   "execution_count": null,
   "metadata": {},
   "outputs": [],
   "source": []
  }
 ],
 "metadata": {
  "kernelspec": {
   "display_name": "Python 3",
   "language": "python",
   "name": "python3"
  },
  "language_info": {
   "codemirror_mode": {
    "name": "ipython",
    "version": 3
   },
   "file_extension": ".py",
   "mimetype": "text/x-python",
   "name": "python",
   "nbconvert_exporter": "python",
   "pygments_lexer": "ipython3",
   "version": "3.7.3"
  }
 },
 "nbformat": 4,
 "nbformat_minor": 2
}
