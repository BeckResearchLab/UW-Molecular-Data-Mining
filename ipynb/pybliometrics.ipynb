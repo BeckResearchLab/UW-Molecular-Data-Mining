{
 "cells": [
  {
   "cell_type": "code",
   "execution_count": null,
   "metadata": {},
   "outputs": [],
   "source": [
    "# This notebook is meant to prototype a script that can find the publication PII identification numbers automatically for a query into the science direct database.\n",
    "\n",
    "# To test queries, go to https://www.scopus.com/search/form.uri?display=advanced"
   ]
  },
  {
   "cell_type": "code",
   "execution_count": null,
   "metadata": {},
   "outputs": [],
   "source": [
    "# The link to elsevier active journals link: https://www.elsevier.com/__data/promis_misc/sd-content/journals/jnlactivesubject.xls"
   ]
  },
  {
   "cell_type": "code",
   "execution_count": 2,
   "metadata": {},
   "outputs": [],
   "source": [
    "from pybliometrics.scopus import ScopusSearch as search\n",
    "import pandas as pd\n",
    "import numpy as np"
   ]
  },
  {
   "cell_type": "code",
   "execution_count": null,
   "metadata": {},
   "outputs": [],
   "source": []
  },
  {
   "cell_type": "markdown",
   "metadata": {},
   "source": [
    "# Goals for the algorithm\n",
    "\n",
    "List of things by which the algorithm will parse searches:\n",
    "\n",
    "1. Year\n",
    "2. Journal\n",
    "3. Keyword search\n",
    "\n",
    "Here is an example search syntax: `s = ScopusSearch('FIRSTAUTH ( kitchin  j.r. )')`"
   ]
  },
  {
   "cell_type": "code",
   "execution_count": null,
   "metadata": {},
   "outputs": [],
   "source": []
  },
  {
   "cell_type": "code",
   "execution_count": 3,
   "metadata": {},
   "outputs": [],
   "source": [
    "# This creates a dataframe of the active journals and their subjects from elsevier\n",
    "active_journals = pd.read_excel('https://www.elsevier.com/__data/promis_misc/sd-content/journals/jnlactivesubject.xls')"
   ]
  },
  {
   "cell_type": "code",
   "execution_count": 5,
   "metadata": {},
   "outputs": [
    {
     "data": {
      "text/html": [
       "<div>\n",
       "<style scoped>\n",
       "    .dataframe tbody tr th:only-of-type {\n",
       "        vertical-align: middle;\n",
       "    }\n",
       "\n",
       "    .dataframe tbody tr th {\n",
       "        vertical-align: top;\n",
       "    }\n",
       "\n",
       "    .dataframe thead th {\n",
       "        text-align: right;\n",
       "    }\n",
       "</style>\n",
       "<table border=\"1\" class=\"dataframe\">\n",
       "  <thead>\n",
       "    <tr style=\"text-align: right;\">\n",
       "      <th></th>\n",
       "      <th>Full Title</th>\n",
       "      <th>ISSN</th>\n",
       "      <th>Product ID</th>\n",
       "      <th>Change History</th>\n",
       "      <th>Parent Category</th>\n",
       "      <th>Display Category Full Name</th>\n",
       "    </tr>\n",
       "  </thead>\n",
       "  <tbody>\n",
       "    <tr>\n",
       "      <th>0</th>\n",
       "      <td>Academic Pediatrics</td>\n",
       "      <td>18762859</td>\n",
       "      <td>07802</td>\n",
       "      <td>Formerly known as Ambulatory Pediatrics</td>\n",
       "      <td>Medicine and Dentistry</td>\n",
       "      <td>Medicine and Dentistry::Perinatology, Pediatri...</td>\n",
       "    </tr>\n",
       "    <tr>\n",
       "      <th>1</th>\n",
       "      <td>Academic Pediatrics</td>\n",
       "      <td>18762859</td>\n",
       "      <td>07802</td>\n",
       "      <td>Formerly known as Ambulatory Pediatrics</td>\n",
       "      <td>Medicine and Dentistry</td>\n",
       "      <td>Medicine and Dentistry::Public Health and Heal...</td>\n",
       "    </tr>\n",
       "    <tr>\n",
       "      <th>2</th>\n",
       "      <td>Academic Radiology</td>\n",
       "      <td>10766332</td>\n",
       "      <td>13351</td>\n",
       "      <td>NaN</td>\n",
       "      <td>Medicine and Dentistry</td>\n",
       "      <td>Medicine and Dentistry::Radiology and Imaging</td>\n",
       "    </tr>\n",
       "    <tr>\n",
       "      <th>3</th>\n",
       "      <td>Accident Analysis &amp; Prevention</td>\n",
       "      <td>00014575</td>\n",
       "      <td>00336</td>\n",
       "      <td>NaN</td>\n",
       "      <td>Chemical Engineering</td>\n",
       "      <td>Chemical Engineering::Chemical Health and Safety</td>\n",
       "    </tr>\n",
       "    <tr>\n",
       "      <th>4</th>\n",
       "      <td>Accident Analysis &amp; Prevention</td>\n",
       "      <td>00014575</td>\n",
       "      <td>00336</td>\n",
       "      <td>NaN</td>\n",
       "      <td>Engineering</td>\n",
       "      <td>Engineering::Safety, Risk, Reliability and Qua...</td>\n",
       "    </tr>\n",
       "  </tbody>\n",
       "</table>\n",
       "</div>"
      ],
      "text/plain": [
       "                       Full Title      ISSN Product ID  \\\n",
       "0             Academic Pediatrics  18762859      07802   \n",
       "1             Academic Pediatrics  18762859      07802   \n",
       "2              Academic Radiology  10766332      13351   \n",
       "3  Accident Analysis & Prevention  00014575      00336   \n",
       "4  Accident Analysis & Prevention  00014575      00336   \n",
       "\n",
       "                            Change History         Parent Category  \\\n",
       "0  Formerly known as Ambulatory Pediatrics  Medicine and Dentistry   \n",
       "1  Formerly known as Ambulatory Pediatrics  Medicine and Dentistry   \n",
       "2                                      NaN  Medicine and Dentistry   \n",
       "3                                      NaN    Chemical Engineering   \n",
       "4                                      NaN             Engineering   \n",
       "\n",
       "                          Display Category Full Name  \n",
       "0  Medicine and Dentistry::Perinatology, Pediatri...  \n",
       "1  Medicine and Dentistry::Public Health and Heal...  \n",
       "2      Medicine and Dentistry::Radiology and Imaging  \n",
       "3   Chemical Engineering::Chemical Health and Safety  \n",
       "4  Engineering::Safety, Risk, Reliability and Qua...  "
      ]
     },
     "execution_count": 5,
     "metadata": {},
     "output_type": "execute_result"
    }
   ],
   "source": [
    "active_journals.head()"
   ]
  },
  {
   "cell_type": "code",
   "execution_count": 39,
   "metadata": {},
   "outputs": [],
   "source": [
    "# How many journals contain the substring \"chem\" in their title or description\n",
    "def j_contains(active_journals,kwd,output=False):\n",
    "    \"\"\"\n",
    "    This method finds the rows that contain the keywords in journal titles or descriptions\n",
    "    \"\"\"\n",
    "    df = active_journals[active_journals['Display Category Full Name'].str.contains(kwd)]\n",
    "    print(len(df),\"journals with the substring \",kwd)\n",
    "    \n",
    "    if output is True:\n",
    "        return df"
   ]
  },
  {
   "cell_type": "code",
   "execution_count": 53,
   "metadata": {},
   "outputs": [
    {
     "data": {
      "text/plain": [
       "'Medicine and Dentistry::Perinatology, Pediatrics and Child Health'"
      ]
     },
     "execution_count": 53,
     "metadata": {},
     "output_type": "execute_result"
    }
   ],
   "source": [
    "active_journals.iloc[0,5]"
   ]
  },
  {
   "cell_type": "code",
   "execution_count": 50,
   "metadata": {},
   "outputs": [
    {
     "name": "stdout",
     "output_type": "stream",
     "text": [
      "662 journals with the substring  chem\n",
      "428 journals with the substring  Chem\n",
      "0 journals with the substring  polymer\n",
      "19 journals with the substring  Polymer\n",
      "669 journals with the substring  Molecul\n",
      "0 journals with the substring  edron\n"
     ]
    }
   ],
   "source": [
    "j_contains(active_journals,'chem')\n",
    "j_contains(active_journals,'Chem')\n",
    "j_contains(active_journals,'polymer')\n",
    "j_contains(active_journals,'Polymer')\n",
    "j_contains(active_journals,'Molecul')\n",
    "j_contains(active_journals,'')\n"
   ]
  },
  {
   "cell_type": "code",
   "execution_count": null,
   "metadata": {},
   "outputs": [],
   "source": []
  },
  {
   "cell_type": "code",
   "execution_count": null,
   "metadata": {},
   "outputs": [],
   "source": []
  },
  {
   "cell_type": "code",
   "execution_count": null,
   "metadata": {},
   "outputs": [],
   "source": []
  },
  {
   "cell_type": "code",
   "execution_count": null,
   "metadata": {},
   "outputs": [],
   "source": [
    "def make_query(kwds,year,journal):\n",
    "    \"\"\"\n",
    "    This method creates a query string from the input information that can be used in the ScopusSearch method. \n",
    "    \"\"\"\n",
    "    \n",
    "    # This builds the keyword search portion of the query string\n",
    "    tak = \"TITLE-ABS-KEY(\"\n",
    "    for i in range(len(kwds)):\n",
    "        if i != len(kwds)-1:\n",
    "            tak += kwds[i] + 'OR'\n",
    "        else:\n",
    "            tak += kwds[i] + ')'\n",
    "    \n",
    "    # This builds the year portion of the query string \n",
    "    yr = \"PUBYEAR IS \" + year\n",
    "    \n",
    "    # This builds the journal portion of the query string \n",
    "    "
   ]
  }
 ],
 "metadata": {
  "kernelspec": {
   "display_name": "Python 3",
   "language": "python",
   "name": "python3"
  },
  "language_info": {
   "codemirror_mode": {
    "name": "ipython",
    "version": 3
   },
   "file_extension": ".py",
   "mimetype": "text/x-python",
   "name": "python",
   "nbconvert_exporter": "python",
   "pygments_lexer": "ipython3",
   "version": "3.7.3"
  }
 },
 "nbformat": 4,
 "nbformat_minor": 4
}
