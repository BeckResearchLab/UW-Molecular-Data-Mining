{
 "cells": [
  {
   "cell_type": "code",
   "execution_count": 1,
   "metadata": {},
   "outputs": [],
   "source": [
    "# This notebook is meant to prototype a script that can find the publication PII identification numbers automatically for a query into the science direct database.\n",
    "\n",
    "# To test queries, go to https://www.scopus.com/search/form.uri?display=advanced"
   ]
  },
  {
   "cell_type": "code",
   "execution_count": 2,
   "metadata": {},
   "outputs": [],
   "source": [
    "# The link to elsevier active journals link: https://www.elsevier.com/__data/promis_misc/sd-content/journals/jnlactivesubject.xls"
   ]
  },
  {
   "cell_type": "code",
   "execution_count": 106,
   "metadata": {},
   "outputs": [],
   "source": [
    "api = '506e073160e8aa445febbadf41f11c83'"
   ]
  },
  {
   "cell_type": "code",
   "execution_count": 20,
   "metadata": {},
   "outputs": [],
   "source": [
    "from pybliometrics.scopus import ScopusSearch as search\n",
    "import pandas as pd\n",
    "import numpy as np\n",
    "from sklearn.utils import shuffle"
   ]
  },
  {
   "cell_type": "markdown",
   "metadata": {},
   "source": [
    "# Goals for the algorithm\n",
    "\n",
    "List of things by which the algorithm will parse searches:\n",
    "\n",
    "1. Year\n",
    "2. Journal\n",
    "3. Keyword search\n",
    "\n",
    "Here is an example search syntax: `s = ScopusSearch('FIRSTAUTH ( kitchin  j.r. )')`"
   ]
  },
  {
   "cell_type": "code",
   "execution_count": 12,
   "metadata": {},
   "outputs": [],
   "source": [
    "# This creates a dataframe of the active journals and their subjects from elsevier\n",
    "active_journals = pd.read_excel('https://www.elsevier.com/__data/promis_misc/sd-content/journals/jnlactivesubject.xls')\n",
    "active_journals.rename(columns = {'Display Category Full Name':'Full_Category','Full Title':'Journal_Title'}, inplace = True)"
   ]
  },
  {
   "cell_type": "markdown",
   "metadata": {},
   "source": [
    "### The following method creates a dataframe that only contains journals mentioning certain keywords in their 'Full_Category' column. \n",
    "### It still needs work on user friendlyness"
   ]
  },
  {
   "cell_type": "code",
   "execution_count": 60,
   "metadata": {},
   "outputs": [],
   "source": [
    "active_journals.Full_Category = active_journals.Full_Category.str.lower() # lowercase topics for searching\n",
    "active_journals = active_journals.drop_duplicates(subset = 'Journal_Title') # drop any duplicate journals\n",
    "active_journals = shuffle(active_journals,random_state = 42) \n",
    "\n",
    "\n",
    "\n",
    "# The set of default strings that will be used to sort which journals we want\n",
    "journal_strings = ['chemistry','energy','molecular','atomic','chemical','biochem'\n",
    "                  ,'organic','polymer','chemical engineering','biotech','coloid']\n",
    "\n",
    "# making this an easier command to type\n",
    "name = active_journals['Full_Category'].str.contains\n",
    "\n",
    "\n",
    "# desired keywords\n",
    "# new dataframe full of only journals who's topic description contained the\n",
    "active_journals= active_journals[name('polymer') | name('chemistry') | name('energy')| name('molecular') | name('colloid') | name('biochem')| name('organic') | name('biotech') | name('chemical')]\n",
    "issn_list = active_journals['ISSN'].values"
   ]
  },
  {
   "cell_type": "code",
   "execution_count": 63,
   "metadata": {},
   "outputs": [
    {
     "data": {
      "text/html": [
       "<div>\n",
       "<style scoped>\n",
       "    .dataframe tbody tr th:only-of-type {\n",
       "        vertical-align: middle;\n",
       "    }\n",
       "\n",
       "    .dataframe tbody tr th {\n",
       "        vertical-align: top;\n",
       "    }\n",
       "\n",
       "    .dataframe thead th {\n",
       "        text-align: right;\n",
       "    }\n",
       "</style>\n",
       "<table border=\"1\" class=\"dataframe\">\n",
       "  <thead>\n",
       "    <tr style=\"text-align: right;\">\n",
       "      <th></th>\n",
       "      <th>Journal_Title</th>\n",
       "      <th>ISSN</th>\n",
       "      <th>Product ID</th>\n",
       "      <th>Change History</th>\n",
       "      <th>Parent Category</th>\n",
       "      <th>Full_Category</th>\n",
       "    </tr>\n",
       "  </thead>\n",
       "  <tbody>\n",
       "    <tr>\n",
       "      <td>5723</td>\n",
       "      <td>Polyhedron</td>\n",
       "      <td>02775387</td>\n",
       "      <td>00218</td>\n",
       "      <td>Incorporating Inorganic and Nuclear Chemistry ...</td>\n",
       "      <td>Biochemistry, Genetics and Molecular Biology</td>\n",
       "      <td>biochemistry, genetics and molecular biology::...</td>\n",
       "    </tr>\n",
       "    <tr>\n",
       "      <td>6710</td>\n",
       "      <td>Tetrahedron Letters</td>\n",
       "      <td>00404039</td>\n",
       "      <td>00233</td>\n",
       "      <td>NaN</td>\n",
       "      <td>Biochemistry, Genetics and Molecular Biology</td>\n",
       "      <td>biochemistry, genetics and molecular biology::...</td>\n",
       "    </tr>\n",
       "    <tr>\n",
       "      <td>6707</td>\n",
       "      <td>Tetrahedron</td>\n",
       "      <td>00404020</td>\n",
       "      <td>00942</td>\n",
       "      <td>NaN</td>\n",
       "      <td>Biochemistry, Genetics and Molecular Biology</td>\n",
       "      <td>biochemistry, genetics and molecular biology::...</td>\n",
       "    </tr>\n",
       "  </tbody>\n",
       "</table>\n",
       "</div>"
      ],
      "text/plain": [
       "            Journal_Title      ISSN Product ID  \\\n",
       "5723           Polyhedron  02775387      00218   \n",
       "6710  Tetrahedron Letters  00404039      00233   \n",
       "6707          Tetrahedron  00404020      00942   \n",
       "\n",
       "                                         Change History  \\\n",
       "5723  Incorporating Inorganic and Nuclear Chemistry ...   \n",
       "6710                                                NaN   \n",
       "6707                                                NaN   \n",
       "\n",
       "                                   Parent Category  \\\n",
       "5723  Biochemistry, Genetics and Molecular Biology   \n",
       "6710  Biochemistry, Genetics and Molecular Biology   \n",
       "6707  Biochemistry, Genetics and Molecular Biology   \n",
       "\n",
       "                                          Full_Category  \n",
       "5723  biochemistry, genetics and molecular biology::...  \n",
       "6710  biochemistry, genetics and molecular biology::...  \n",
       "6707  biochemistry, genetics and molecular biology::...  "
      ]
     },
     "execution_count": 63,
     "metadata": {},
     "output_type": "execute_result"
    }
   ],
   "source": [
    "active_journals[active_journals['Journal_Title'].str.contains('edron')]"
   ]
  },
  {
   "cell_type": "code",
   "execution_count": 134,
   "metadata": {},
   "outputs": [
    {
     "data": {
      "text/plain": [
       "array(['10434666', '87563282', '18766102', '03702693', '15677249',\n",
       "       '00219517', '18751741', '10049541', '03605442', '00489697',\n",
       "       '0018506X', '0960894X', '03790738', '23727705', '00162361',\n",
       "       '25901524', '01956701', '25889125', '16720229', '00098981',\n",
       "       '25889133', '03601323', '18794068', '09582118', '00260495',\n",
       "       '01689525', '24680230', '00032670', '00092614', '1567133X',\n",
       "       '00224073', '23521864', '03783812', '22151532', '07173458',\n",
       "       '00796565', '15345807', '18961126', '00166480', '24523364',\n",
       "       '22150161', '25901826', '01694332', '17406749', '13881981',\n",
       "       '00102180', '00221759', '13861425', '08986568', '0147619X',\n",
       "       '1744117X', '01681656', '14384221', '23521791', '13595113',\n",
       "       '09684328', '01959255', '10462023', '25423649', '15504131',\n",
       "       '09248579', '23523204', '09213449', '03043894', '24520721',\n",
       "       '13835718', '03603199', '00222828', '10106030', '09232508',\n",
       "       '03603016', '19365233', '25425293', '09262040', '03785122',\n",
       "       '01674889', '13675931', '09680896', '25895974', '13835742',\n",
       "       '03781119', '15699048', '03037207', '24685844', '00244937',\n",
       "       '07351933', '17439671', '25901583', '23524847', '12860115',\n",
       "       '03064549', '09244247', '13596101', '25888420', '25892347',\n",
       "       '03019268', '1341321X', '1521690X', '13504177', '0142727X',\n",
       "       '00039861', '24686050', '25901400', '0038092X', '00086223',\n",
       "       '03044165', '24056014', '01615890', '00796816', '00396028',\n",
       "       '23290501', '05779073', '0301679X', '01677012', '00167037',\n",
       "       '00092541', '2405805X', '25897578', '23525517', '01652370',\n",
       "       '20965192', '17550084', '00406031', '26663376', '22149937',\n",
       "       '09254005', '22133437', '25892991', '23769998', '23525509',\n",
       "       '17341140', '03787753', '01466410', '24681717', '2212540X',\n",
       "       '01406701', '15216926', '00052736', '00219614', '13877003',\n",
       "       '10849521', '22112855', '10451056', '17697212', '01476513',\n",
       "       '22137165', '02715317', '20959273', '02235234', '00222836',\n",
       "       '12900729', '24523216', '01437208', '03770257', '01452126',\n",
       "       '0145305X', '10478477', '14653249', '22129820', '09550674',\n",
       "       '00134686', '03682048', '26660164', '02775387', '10838791',\n",
       "       '18785352', '24523100', '07203373', '01676105', '22146296',\n",
       "       '13882481', '05315565', '15681637', '18711014', '23528540',\n",
       "       '0265931X', '18725813', '23523964', '09552863', '14778939',\n",
       "       '0169409X', '01674943', '09447113', '24680540', '09254773',\n",
       "       '25901370', '15250016', '09680004', '08941777', '13504789',\n",
       "       '01634453', '25901435', '01434004', '07349750', '0945053X',\n",
       "       '00201693', '24054712', '14729792', '13594311', '24058300',\n",
       "       '13866532', '0039128X', '09601481', '24520144', '01677322',\n",
       "       '00014575', '01434160', '24682330', '17497728', '22135979',\n",
       "       '00104655', '09393889', '22147144', '09600760', '18763804',\n",
       "       '14714914', '03601285', '09696210', '03759474', '10988823',\n",
       "       '01688227', '00913022', '14765586', '09277765', '18751768',\n",
       "       '15407489', '03014622', '25431064', '22138587', '16738527',\n",
       "       '01604120', '00144827', '09599436', '0211139X', '09203796',\n",
       "       '10956433', '03009084', '24519456', '00221139', '24056650',\n",
       "       '12019712', '25901508', '05848547', '18724973', '00219673',\n",
       "       '18716784', '03756505', '25899651', '10964959', '13490079',\n",
       "       '03063747', '00913057', '01672738', '22117156', '00088749',\n",
       "       '03770273', '16742001', '0210573X', '25900498', '18761070',\n",
       "       '03064530', '23523522', '01434179', '00981354', '03787788',\n",
       "       '00404039', '03019322', '00253227', '24681113', '23523859',\n",
       "       '09263373', '24056561', '24688673', '00029297', '0304386X',\n",
       "       '25901559', '17385733', '10871845', '1752928X', '00032697',\n",
       "       '23003960', '03010104', '08968446', '2665928X', '09692126',\n",
       "       '01620134', '24056758', '03440338', '18799817', '16583876',\n",
       "       '24056308', '13590294', '01970186', '00796700', '24519103',\n",
       "       '00219797', '00404020', '03767388', '03014681', '22132945',\n",
       "       '0730725X', '22145400', '24682020', '13596349', '13572725',\n",
       "       '13538020', '10018417', '10967192', '24519650', '0022510X',\n",
       "       '25901346', '00937754', '09591524', '10568727', '09218831',\n",
       "       '0006291X', '23521872', '25901419', '23523093', '09504230',\n",
       "       '10465928', '18749399', '03787796', '25902628', '00086215',\n",
       "       '24519049', '23524316', '00151882', '00018686', '09925945',\n",
       "       '25424351', '20965117', '03783820', '00224375', '10898603',\n",
       "       '20459769', '17480132', '01413910', '22131388', '24522627',\n",
       "       '02638762', '00452068', '24522236', '22130489', '00903752',\n",
       "       '22140301', '26659441', '22124926', '10432760', '01974580',\n",
       "       '22113398', '08832927', '15726657', '00399140', '00262862',\n",
       "       '25900285', '1044579X', '03009440', '24059854', '15356108',\n",
       "       '24680257', '15709639', '00431648', '0026265X', '22150382',\n",
       "       '13891723', '09523278', '0946672X', '00222860', '00179310',\n",
       "       '13895567', '13815148', '0301472X', '08908508', '01491970',\n",
       "       '20957548', '24055808', '15499634', '09575820', '01712985',\n",
       "       '00222852', '00224596', '03014797', '22146237', '09581669',\n",
       "       '15700232', '15538389', '16310748', '00275107', '20952546',\n",
       "       '01968904', '17406757', '15320456', '00099120', '22136711',\n",
       "       '03069877', '00651281', '01969781', '09205861', '13871811',\n",
       "       '03062619', '09730826', '17427061', '15661199', '24058033',\n",
       "       '23527110', '10907807', '00456535', '25901168', '09277757',\n",
       "       '00119164', '23524510', '22129685', '07365748', '2352345X',\n",
       "       '00928674', '24518301', '00121606', '15667367', '02697491',\n",
       "       '09977546', '00143057', '20954956', '15675394', '10183647',\n",
       "       '2210271X', '08887543', '00223115', '21622531', '10799796',\n",
       "       '2451912X', '02149168', '03044203', '24058297', '14642859',\n",
       "       '13645439', '09698051', '1773035X', '22144269', '10269185',\n",
       "       '01656147', '09409602', '18715532', '22141588', '13640321',\n",
       "       '0092640X', '13656937', '00476374', '20010370', '0304419X',\n",
       "       '14714892', '22141804', '18743919', '00222313', '13504495',\n",
       "       '10016279', '03619230', '0959437X', '09598049', '25897780',\n",
       "       '12783218', '02085216', '26663864', '22121374', '13514210',\n",
       "       '25889303', '13858947', '0268960X', '18725805', '09445013',\n",
       "       '23194170', '00295493', '13697021', '00063495', '10020721',\n",
       "       '2468256X', '10966374', '01429612', '01697439', '00325910',\n",
       "       '13873806', '01677799', '00796107', '09396411', '00982997',\n",
       "       '14769271', '15710645', '01675729', '10933263', '00319384',\n",
       "       '22107762', '01695002', '26661233', '13196103', '01418130',\n",
       "       '08915849', '09254439', '01678140', '20901232', '11100621',\n",
       "       '18722067', '24688231', '09242031', '0022328X', '13596446',\n",
       "       '25300164', '10447431', '15687864', '1369703X', '25900064',\n",
       "       '1226086X', '25900072', '13687646', '24685011', '01964399',\n",
       "       '00142999', '00144800', '22132317', '2215017X', '01691317',\n",
       "       '00092509', '01659936', '13446223', '18786529', '24519294',\n",
       "       '12962074', '18722040', '08910618', '13550306', '09270248',\n",
       "       '22145524', '09565663', '0926860X', '09628924', '13514180',\n",
       "       '18735061', '18884008', '25890042', '14747065', '02552701',\n",
       "       '22146245', '08926875', '10050302', '01410229', '10967176',\n",
       "       '18777821', '25899147', '22110348', '2352507X', '01429418',\n",
       "       '01466380', '09596526', '24681709', '22140085', '23523409',\n",
       "       '24680672', '0959440X', '03043835', '25901745', '22106707',\n",
       "       '13590286', '13835866', '00108545', '01666851', '10972765',\n",
       "       '23525541', '00410101', '23523042', '14629011', '00323861',\n",
       "       '07317085', '08966273', '07328893', '07418329', '2590048X',\n",
       "       '19345909'], dtype=object)"
      ]
     },
     "execution_count": 134,
     "metadata": {},
     "output_type": "execute_result"
    }
   ],
   "source": [
    "issn_list"
   ]
  },
  {
   "cell_type": "markdown",
   "metadata": {},
   "source": [
    "### The following method builds the keyword search portion of a query. There is an example below that can be copy-pasted into the Scopus advanced Search."
   ]
  },
  {
   "cell_type": "code",
   "execution_count": 142,
   "metadata": {},
   "outputs": [],
   "source": [
    "def build_search_terms(kwds):\n",
    "    \"\"\"\n",
    "    This builds the keyword search portion of the query string.\n",
    "    \"\"\"\n",
    "    tak = \"\"\n",
    "    for i in range(len(kwds)):\n",
    "        if i != len(kwds)-1:\n",
    "            tak += kwds[i] + ' OR '\n",
    "        else:\n",
    "            tak += kwds[i] + ' '\n",
    "    \n",
    "    return tak"
   ]
  },
  {
   "cell_type": "code",
   "execution_count": 126,
   "metadata": {},
   "outputs": [
    {
     "data": {
      "text/plain": [
       "'polymer OR organic OR molecular'"
      ]
     },
     "execution_count": 126,
     "metadata": {},
     "output_type": "execute_result"
    }
   ],
   "source": [
    "build_search_terms(['polymer','organic','molecular'])"
   ]
  },
  {
   "cell_type": "markdown",
   "metadata": {},
   "source": [
    "### The following method builds the entiry query to be put into pybliometrics"
   ]
  },
  {
   "cell_type": "code",
   "execution_count": 90,
   "metadata": {},
   "outputs": [
    {
     "data": {
      "text/plain": [
       "202"
      ]
     },
     "execution_count": 90,
     "metadata": {},
     "output_type": "execute_result"
    }
   ],
   "source": [
    "len(search(make_query(build_search_terms(['polymer','organic','molecular','property']),2018,'00404020')).results)"
   ]
  },
  {
   "cell_type": "code",
   "execution_count": null,
   "metadata": {},
   "outputs": [],
   "source": []
  },
  {
   "cell_type": "code",
   "execution_count": 161,
   "metadata": {},
   "outputs": [],
   "source": [
    "# Here is a model test query \n",
    "# test = search(verbose = True, query = 'polymer OR organic OR molecular AND PUBYEAR IS 2019 AND ISSN(00404020)')"
   ]
  },
  {
   "cell_type": "code",
   "execution_count": 159,
   "metadata": {},
   "outputs": [],
   "source": [
    "def build_query_dict(term_list,issn_list,year_list):\n",
    "    \"\"\"\n",
    "    This method takes the list of journals and creates a nested dictionary\n",
    "    containing all accessible queries, in each year, for each journal,\n",
    "    for a given keyword search on sciencedirect.\n",
    "    \"\"\"\n",
    "    search_terms = build_search_terms(term_list)\n",
    "    dict1 = {}\n",
    "    \n",
    "    for year in year_list:\n",
    "        \n",
    "        year_terms = \" AND PUBYEAR IS \" + str(year)\n",
    "        dict2 = {}\n",
    "        \n",
    "        for issn in issn_list:\n",
    "            \n",
    "            issn_terms = ' AND ISSN(' + issn + ')'\n",
    "            querystring = search_terms + str(year) + issn_terms\n",
    "\n",
    "            dict2[issn] = querystring\n",
    "\n",
    "        dict1[year] = dict2\n",
    "\n",
    "    return dict1\n",
    "\n"
   ]
  },
  {
   "cell_type": "code",
   "execution_count": 160,
   "metadata": {},
   "outputs": [],
   "source": [
    "dictionary = build_query_dict(['polymer','organic','molecular','molecule','property','corrosion inhibitor','flame retardant'],issn_list,range(1995,2021))"
   ]
  },
  {
   "cell_type": "markdown",
   "metadata": {},
   "source": [
    "### Below is a method to clear the cache so we don't run out of memory. "
   ]
  },
  {
   "cell_type": "code",
   "execution_count": null,
   "metadata": {},
   "outputs": [],
   "source": []
  }
 ],
 "metadata": {
  "kernelspec": {
   "display_name": "Python 3",
   "language": "python",
   "name": "python3"
  },
  "language_info": {
   "codemirror_mode": {
    "name": "ipython",
    "version": 3
   },
   "file_extension": ".py",
   "mimetype": "text/x-python",
   "name": "python",
   "nbconvert_exporter": "python",
   "pygments_lexer": "ipython3",
   "version": "3.7.4"
  }
 },
 "nbformat": 4,
 "nbformat_minor": 4
}
