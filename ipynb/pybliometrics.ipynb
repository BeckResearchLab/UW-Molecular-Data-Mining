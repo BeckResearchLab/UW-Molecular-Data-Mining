{
 "cells": [
  {
   "cell_type": "code",
   "execution_count": 117,
   "metadata": {},
   "outputs": [],
   "source": [
    "# This notebook is meant to prototype a script that can find the publication PII identification numbers automatically for a query into the science direct database.\n",
    "\n",
    "# To test queries, go to https://www.scopus.com/search/form.uri?display=advanced"
   ]
  },
  {
   "cell_type": "code",
   "execution_count": 118,
   "metadata": {},
   "outputs": [],
   "source": [
    "# The link to elsevier active journals link: https://www.elsevier.com/__data/promis_misc/sd-content/journals/jnlactivesubject.xls"
   ]
  },
  {
   "cell_type": "code",
   "execution_count": 158,
   "metadata": {},
   "outputs": [],
   "source": [
    "from pybliometrics.scopus import ScopusSearch\n",
    "import pandas as pd\n",
    "import numpy as np\n",
    "from sklearn.utils import shuffle\n",
    "import os\n",
    "import multiprocessing\n",
    "from os import system, name\n",
    "import json"
   ]
  },
  {
   "cell_type": "markdown",
   "metadata": {},
   "source": [
    "# Goals for the algorithm\n",
    "\n",
    "List of things by which the algorithm will parse searches:\n",
    "\n",
    "1. Year\n",
    "2. Journal\n",
    "3. Keyword search\n",
    "\n",
    "Here is an example search syntax: `s = ScopusSearch('FIRSTAUTH ( kitchin  j.r. )')`"
   ]
  },
  {
   "cell_type": "markdown",
   "metadata": {},
   "source": [
    "### The following method creates a dataframe that only contains journals mentioning certain keywords in their 'Full_Category' column. \n",
    "### It still needs work on user friendlyness"
   ]
  },
  {
   "cell_type": "code",
   "execution_count": 144,
   "metadata": {},
   "outputs": [],
   "source": [
    "els_jpath = 'https://www.elsevier.com/__data/promis_misc/sd-content/journals/jnlactivesubject.xls'\n",
    "\n",
    "def make_jlist(jlist_url):\n",
    "    \"\"\"\n",
    "    This method creates a dataframe of relevant journals to query. The dataframe contains two columns:\n",
    "    (1) The names of the Journals\n",
    "    (2) The issns of the Journals\n",
    "    \"\"\"\n",
    "    \n",
    "    # This creates a dataframe of the active journals and their subjects from elsevier\n",
    "    active_journals = pd.read_excel(jlist_url)\n",
    "    active_journals.rename(columns = {'Display Category Full Name':'Full_Category','Full Title':'Journal_Title'}, inplace = True)\n",
    "    \n",
    "    active_journals.Full_Category = active_journals.Full_Category.str.lower() # lowercase topics for searching\n",
    "    active_journals = active_journals.drop_duplicates(subset = 'Journal_Title') # drop any duplicate journals\n",
    "    active_journals = shuffle(active_journals,random_state = 42) \n",
    "\n",
    "\n",
    "    # journal_strings is currently unused\n",
    "    # The set of default strings that will be used to sort which journals we want\n",
    "    journal_strings = ['chemistry','energy','molecular','atomic','chemical','biochem'\n",
    "                      ,'organic','polymer','chemical engineering','biotech','coloid']\n",
    "\n",
    "    # making this an easier command to type\n",
    "    name = active_journals['Full_Category'].str.contains\n",
    "\n",
    "\n",
    "    # desired keywords\n",
    "    # new dataframe full of only journals who's topic description contained the\n",
    "    active_journals= active_journals[name('polymer') | name('chemistry') | name('energy')| \n",
    "                                     name('molecular') | name('colloid') | name('biochem')| \n",
    "                                     name('organic') | name('biotech') | name('chemical')]\n",
    "    \n",
    "    journal_list = active_journals[['Journal_Title','ISSN']]\n",
    "    \n",
    "    return journal_frame\n",
    "    \n",
    "    \n",
    "    \n",
    "    "
   ]
  },
  {
   "cell_type": "code",
   "execution_count": 151,
   "metadata": {},
   "outputs": [],
   "source": [
    "def clear_stdout(): \n",
    "  \n",
    "    # for windows \n",
    "    if name == 'nt': \n",
    "        _ = system('cls') \n",
    "  \n",
    "    # for mac and linux(here, os.name is 'posix') \n",
    "    else: \n",
    "        _ = system('clear')"
   ]
  },
  {
   "cell_type": "code",
   "execution_count": 139,
   "metadata": {},
   "outputs": [],
   "source": [
    "journal_list = make_jlist(els_jpath)"
   ]
  },
  {
   "cell_type": "code",
   "execution_count": 121,
   "metadata": {},
   "outputs": [
    {
     "data": {
      "text/html": [
       "<div>\n",
       "<style scoped>\n",
       "    .dataframe tbody tr th:only-of-type {\n",
       "        vertical-align: middle;\n",
       "    }\n",
       "\n",
       "    .dataframe tbody tr th {\n",
       "        vertical-align: top;\n",
       "    }\n",
       "\n",
       "    .dataframe thead th {\n",
       "        text-align: right;\n",
       "    }\n",
       "</style>\n",
       "<table border=\"1\" class=\"dataframe\">\n",
       "  <thead>\n",
       "    <tr style=\"text-align: right;\">\n",
       "      <th></th>\n",
       "      <th>Journal_Title</th>\n",
       "      <th>ISSN</th>\n",
       "      <th>Product ID</th>\n",
       "      <th>Change History</th>\n",
       "      <th>Parent Category</th>\n",
       "      <th>Full_Category</th>\n",
       "    </tr>\n",
       "  </thead>\n",
       "  <tbody>\n",
       "    <tr>\n",
       "      <th>6707</th>\n",
       "      <td>Tetrahedron</td>\n",
       "      <td>00404020</td>\n",
       "      <td>00942</td>\n",
       "      <td>NaN</td>\n",
       "      <td>Biochemistry, Genetics and Molecular Biology</td>\n",
       "      <td>biochemistry, genetics and molecular biology::...</td>\n",
       "    </tr>\n",
       "    <tr>\n",
       "      <th>5723</th>\n",
       "      <td>Polyhedron</td>\n",
       "      <td>02775387</td>\n",
       "      <td>00218</td>\n",
       "      <td>Incorporating Inorganic and Nuclear Chemistry ...</td>\n",
       "      <td>Biochemistry, Genetics and Molecular Biology</td>\n",
       "      <td>biochemistry, genetics and molecular biology::...</td>\n",
       "    </tr>\n",
       "    <tr>\n",
       "      <th>6710</th>\n",
       "      <td>Tetrahedron Letters</td>\n",
       "      <td>00404039</td>\n",
       "      <td>00233</td>\n",
       "      <td>NaN</td>\n",
       "      <td>Biochemistry, Genetics and Molecular Biology</td>\n",
       "      <td>biochemistry, genetics and molecular biology::...</td>\n",
       "    </tr>\n",
       "  </tbody>\n",
       "</table>\n",
       "</div>"
      ],
      "text/plain": [
       "            Journal_Title      ISSN Product ID  \\\n",
       "6707          Tetrahedron  00404020      00942   \n",
       "5723           Polyhedron  02775387      00218   \n",
       "6710  Tetrahedron Letters  00404039      00233   \n",
       "\n",
       "                                         Change History  \\\n",
       "6707                                                NaN   \n",
       "5723  Incorporating Inorganic and Nuclear Chemistry ...   \n",
       "6710                                                NaN   \n",
       "\n",
       "                                   Parent Category  \\\n",
       "6707  Biochemistry, Genetics and Molecular Biology   \n",
       "5723  Biochemistry, Genetics and Molecular Biology   \n",
       "6710  Biochemistry, Genetics and Molecular Biology   \n",
       "\n",
       "                                          Full_Category  \n",
       "6707  biochemistry, genetics and molecular biology::...  \n",
       "5723  biochemistry, genetics and molecular biology::...  \n",
       "6710  biochemistry, genetics and molecular biology::...  "
      ]
     },
     "execution_count": 121,
     "metadata": {},
     "output_type": "execute_result"
    }
   ],
   "source": [
    "active_journals[active_journals['Journal_Title'].str.contains('edron')]"
   ]
  },
  {
   "cell_type": "markdown",
   "metadata": {},
   "source": [
    "### The following method builds the keyword search portion of a query. There is an example below that can be copy-pasted into the Scopus advanced Search."
   ]
  },
  {
   "cell_type": "code",
   "execution_count": 122,
   "metadata": {},
   "outputs": [],
   "source": [
    "def build_search_terms(kwds):\n",
    "    \"\"\"\n",
    "    This builds the keyword search portion of the query string. \n",
    "    \"\"\"\n",
    "    tak = \"\"\n",
    "    for i in range(len(kwds)):\n",
    "        if i != len(kwds)-1:\n",
    "            tak += kwds[i] + ' OR '\n",
    "        else:\n",
    "            tak += kwds[i] + ' '\n",
    "    \n",
    "    return tak"
   ]
  },
  {
   "cell_type": "markdown",
   "metadata": {},
   "source": [
    "### The following method builds the entiry query to be put into pybliometrics"
   ]
  },
  {
   "cell_type": "code",
   "execution_count": 123,
   "metadata": {},
   "outputs": [],
   "source": [
    "# Here is a model test query \n",
    "# test = search(verbose = True, query = 'polymer OR organic OR molecular AND PUBYEAR IS 2019 AND ISSN(00404020)')"
   ]
  },
  {
   "cell_type": "code",
   "execution_count": 154,
   "metadata": {},
   "outputs": [],
   "source": [
    "def build_query_dict(term_list,issn_list,year_list):\n",
    "    \"\"\"\n",
    "    This method takes the list of journals and creates a nested dictionary\n",
    "    containing all accessible queries, in each year, for each journal,\n",
    "    for a given keyword search on sciencedirect.\n",
    "    \n",
    "    Parameters\n",
    "    ----------\n",
    "    term_list(list, required): the list of search terms looked for in papers by the api.\n",
    "    \n",
    "    issn_list(list, required): the list of journal issn's to be queried. Can be created by getting the '.values'\n",
    "    of a 'journal_list' dataframe that has been created from the 'make_jlist' method.\n",
    "    \n",
    "    year_list(list, required): the list of years which will be searched through\n",
    "    \n",
    "    \"\"\"\n",
    "    search_terms = build_search_terms(term_list)\n",
    "    dict1 = {}\n",
    "    \n",
    "    for issn in issn_list:\n",
    "        \n",
    "        issn_terms = ' AND ISSN(' + issn + ')'\n",
    "        dict2 = {}\n",
    "        \n",
    "        for year in year_list:\n",
    "            \n",
    "            year_terms = \"AND PUBYEAR IS \" + str(year)\n",
    "            querystring = search_terms + year_terms + issn_terms\n",
    "\n",
    "            dict2[year] = querystring\n",
    "\n",
    "        dict1[issn] = dict2\n",
    "\n",
    "    return dict1\n",
    "\n"
   ]
  },
  {
   "cell_type": "code",
   "execution_count": 155,
   "metadata": {},
   "outputs": [],
   "source": [
    "term_list = ['polymer','organic','molecular','molecule']"
   ]
  },
  {
   "cell_type": "code",
   "execution_count": 156,
   "metadata": {},
   "outputs": [],
   "source": [
    "# example of how to use the dictionary builder\n",
    "dictionary = build_query_dict(term_list,issn_list,range(1995,2021))"
   ]
  },
  {
   "cell_type": "code",
   "execution_count": 157,
   "metadata": {},
   "outputs": [
    {
     "data": {
      "text/plain": [
       "'polymer OR organic OR molecular OR molecule AND PUBYEAR IS 2015 AND ISSN(00404020)'"
      ]
     },
     "execution_count": 157,
     "metadata": {},
     "output_type": "execute_result"
    }
   ],
   "source": [
    "dictionary['00404020'][2015]"
   ]
  },
  {
   "cell_type": "markdown",
   "metadata": {},
   "source": [
    "### Below is a method(s) to:\n",
    "#### 1) clear the cache so we don't run out of memory\n",
    "#### 2) redirect download output to the desired filepath\n"
   ]
  },
  {
   "cell_type": "code",
   "execution_count": 79,
   "metadata": {},
   "outputs": [
    {
     "name": "stdout",
     "output_type": "stream",
     "text": [
      "Downloading results for query \"polymer OR organic OR molecular OR molecule AND PUBYEAR IS 2015 AND ISSN(00404020)\":\n",
      "Progress: |██████████████████████████████████████████████████| 100.00% Complete\n"
     ]
    }
   ],
   "source": [
    "test = ScopusSearch(verbose=True, query = dictionary[2015]['00404020'])"
   ]
  },
  {
   "cell_type": "code",
   "execution_count": 80,
   "metadata": {},
   "outputs": [
    {
     "data": {
      "text/plain": [
       "1077"
      ]
     },
     "execution_count": 80,
     "metadata": {},
     "output_type": "execute_result"
    }
   ],
   "source": [
    "len(test.results)"
   ]
  },
  {
   "cell_type": "code",
   "execution_count": 153,
   "metadata": {},
   "outputs": [
    {
     "data": {
      "text/plain": [
       "'S0040402015301630'"
      ]
     },
     "execution_count": 153,
     "metadata": {},
     "output_type": "execute_result"
    }
   ],
   "source": [
    "test.results[10].pii"
   ]
  },
  {
   "cell_type": "code",
   "execution_count": 108,
   "metadata": {},
   "outputs": [
    {
     "data": {
      "text/plain": [
       "Document(eid='2-s2.0-84947976373', doi='10.1016/j.tet.2015.10.020', pii='S0040402015301204', pubmed_id=None, title='A simple synthesis of bannucine and 5′-epibannucine from (-)-vindoline', subtype='ar', creator='Ilkei V.', afid='60030035;60027811;60026753;116005646', affilname='Budapest University of Technology and Economics;Magyar Tudomanyos Akademia;Gedeon Richter Plc;XiMo Hungary Ltd.', affiliation_city='Budapest;Budapest;Budapest;Budapest', affiliation_country='Hungary;Hungary;Hungary;Hungary', author_count='13', author_names='Ilkei, Viktor;Bana, Péter;Tóth, Flórián;Palló, Anna;Holczbauer, Tamás;Czugler, Mátyás;Sánta, Zsuzsanna;Dékány, Miklós;Szigetvári, Áron;Hazai, László;Szántay, Csaba;Kalaus, György', author_ids='56974381900;56974499200;13604903200;22981097600;26323231800;7004891749;15722681900;56395306900;56974239900;6602468474;57191519955;6603841259', author_afids='60030035;60030035;116005646;60027811;60027811;60027811;60026753;60026753;60030035;60030035;60030035-60026753;60030035', coverDate='2015-12-23', coverDisplayDate='23 December 2015', publicationName='Tetrahedron', issn='00404020', source_id='26512', eIssn='14645416', aggregationType='Journal', volume='71', issueIdentifier='51', article_number=None, pageRange='9579-9586', description='© 2015 Published by Elsevier Ltd. Bannucine is an Aspidosperma alkaloid isolated from the dried leaves of Catharanthus roseus. The molecule is a derivative of vindoline bearing a C10 substituent, a pattern common to the antineoplastic dimeric indole alkaloids of C. roseus. In bannucine, a 2-pyrrolidone moiety is attached at C5′ to the aromatic ring of the vindoline core at C10. In the present work we report the synthesis of bannucine and its 5′-epimer from natural (-)-vindoline using a cyclic N-acyliminium ion intermediate whose N-acylaminocarbinol precursor is synthesized by the partial reduction of succinimide. We also describe the separation and the structural analysis of the two epimers, using among others, single crystal X-ray diffraction methods, in order to clarify the orientation of the proton attached to the C5′ carbon. The in vitro antineoplastic activity of the pure epimers was also investigated, but none of the two substances showed significant activity on the examined tumour cell lines.', authkeywords='Alkaloid synthesis | Aspidosperma alkaloids | Bannucine | Iminium chemistry | N-acylaminocarbinol', citedby_count='1', openaccess='0', fund_acr=None, fund_no='undefined', fund_sponsor='National Institutes of Health')"
      ]
     },
     "execution_count": 108,
     "metadata": {},
     "output_type": "execute_result"
    }
   ],
   "source": [
    "test.results[14]"
   ]
  },
  {
   "cell_type": "code",
   "execution_count": 58,
   "metadata": {},
   "outputs": [],
   "source": [
    "cache_path = '/Users/DavidJuergens/.scopus/scopus_search/COMPLETE'"
   ]
  },
  {
   "cell_type": "code",
   "execution_count": 145,
   "metadata": {},
   "outputs": [],
   "source": [
    "def clear_cache(cache_path):\n",
    "    \"\"\"\n",
    "    Be very careful with this method. It can delete your entire computer if you let it. \n",
    "    \"\"\"\n",
    "    if len(os.listdir(cache_path)) < 4: # add something about checking that you're within the .scopus or something\n",
    "        os.chdir(cache_path)\n",
    "        for file in os.listdir(cache_path):\n",
    "            os.remove(file)"
   ]
  },
  {
   "cell_type": "markdown",
   "metadata": {},
   "source": [
    "### The method below loops through the entire journal list and collects article metadata, including PII"
   ]
  },
  {
   "cell_type": "markdown",
   "metadata": {},
   "source": [
    "Things we probably want to just grab because we have them:\n",
    "1. Author names\n",
    "2. Author keywords\n",
    "3. Cited by count\n",
    "4. title\n",
    "5. PII\n",
    "6. DOI\n",
    "7. Description"
   ]
  },
  {
   "cell_type": "code",
   "execution_count": 159,
   "metadata": {},
   "outputs": [],
   "source": [
    "def get_piis(term_list, journal_fame, year_list, cache_path, output_path):\n",
    "    \"\"\"\n",
    "    This should be a standalone method that recieves a list of journals (issns), a keyword search,\n",
    "    an output path and a path to clear the cache. It should be mappable to multiple parallel processes. \n",
    "    \"\"\"\n",
    "    issn_list = journal_frame['ISSN'].values\n",
    "    journal_list = journal_frame['Journal_Title'].values\n",
    "    \n",
    "    # Build the dictionary that can be used to sequentially query elsevier for different journals and years\n",
    "    query_dict = build_query_dict(term_list,issn_list,year_list)\n",
    "    \n",
    "    # Must write to memory, clear cache, and clear a dictionary upon starting every new journal\n",
    "    for i in range(len(issn_list)):\n",
    "        \n",
    "        issn_dict = {}\n",
    "        for j in range(len(year_list)):\n",
    "            \n",
    "            # for every year and every journal, query the keywords\n",
    "            print(f'Downloading results from {journa_list[j]} in {year_list[i]}.')\n",
    "            query_results = ScopusSearch(query = query_dict[issn_list[i]][year_list[j]])\n",
    "            \n",
    "            # store relevant information from the results into a dictionary pertaining to that query\n",
    "            result_dict = {}\n",
    "            for result in query_results:\n",
    "                \n",
    "                result_dict['pii'] = result.pii\n",
    "                result_dict['doi'] = result.doi\n",
    "                result_dict['title'] = result.title\n",
    "                result_dict['num_authors'] = result.author_count\n",
    "                result_dict['authors'] = result.author_names\n",
    "                result_dict['description'] = result.description\n",
    "                result_dict['citation_count'] = result.citedby_count\n",
    "                result_dict['keywords'] = result.authkeywords\n",
    "            \n",
    "            # Store all of the results for this year in the dictionary containing to a certain journal\n",
    "            issn_dict[year] = result_dict\n",
    "        \n",
    "        # Store all of the results for this journal in a folder as json file\n",
    "        with open(f'{outputpath}{journal_list[j]}.json','w') as file:\n",
    "            json.dump(issn_dict, fp)"
   ]
  },
  {
   "cell_type": "code",
   "execution_count": null,
   "metadata": {},
   "outputs": [],
   "source": []
  },
  {
   "cell_type": "code",
   "execution_count": null,
   "metadata": {},
   "outputs": [],
   "source": []
  },
  {
   "cell_type": "code",
   "execution_count": null,
   "metadata": {},
   "outputs": [],
   "source": []
  }
 ],
 "metadata": {
  "kernelspec": {
   "display_name": "Python 3",
   "language": "python",
   "name": "python3"
  },
  "language_info": {
   "codemirror_mode": {
    "name": "ipython",
    "version": 3
   },
   "file_extension": ".py",
   "mimetype": "text/x-python",
   "name": "python",
   "nbconvert_exporter": "python",
   "pygments_lexer": "ipython3",
   "version": "3.7.3"
  }
 },
 "nbformat": 4,
 "nbformat_minor": 4
}
