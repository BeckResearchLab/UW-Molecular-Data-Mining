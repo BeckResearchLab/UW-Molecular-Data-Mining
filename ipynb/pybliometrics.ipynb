{
 "cells": [
  {
   "cell_type": "code",
   "execution_count": null,
   "metadata": {},
   "outputs": [],
   "source": [
    "# This notebook is meant to prototype a script that can find the publication PII identification numbers automatically for a query into the science direct database.\n",
    "\n",
    "# To test queries, go to https://www.scopus.com/search/form.uri?display=advanced"
   ]
  },
  {
   "cell_type": "code",
   "execution_count": 25,
   "metadata": {},
   "outputs": [],
   "source": [
    "from pybliometrics.scopus import ScopusSearch as search\n",
    "import pandas as pd\n",
    "import numpy as np"
   ]
  },
  {
   "cell_type": "code",
   "execution_count": null,
   "metadata": {},
   "outputs": [],
   "source": []
  },
  {
   "cell_type": "markdown",
   "metadata": {},
   "source": [
    "# Goals for the algorithm\n",
    "\n",
    "List of things by which the algorithm will parse searches:\n",
    "\n",
    "1. Year\n",
    "2. Journal\n",
    "3. Keyword search\n",
    "\n",
    "Here is an example search syntax: `s = ScopusSearch('FIRSTAUTH ( kitchin  j.r. )')`"
   ]
  },
  {
   "cell_type": "code",
   "execution_count": null,
   "metadata": {},
   "outputs": [],
   "source": [
    "def make_query(kwds,year,journal):\n",
    "    \"\"\"\n",
    "    This method creates a query string from the input information that can be used in the ScopusSearch method. \n",
    "    \"\"\"\n",
    "    \n",
    "    "
   ]
  }
 ],
 "metadata": {
  "kernelspec": {
   "display_name": "Python 3",
   "language": "python",
   "name": "python3"
  },
  "language_info": {
   "codemirror_mode": {
    "name": "ipython",
    "version": 3
   },
   "file_extension": ".py",
   "mimetype": "text/x-python",
   "name": "python",
   "nbconvert_exporter": "python",
   "pygments_lexer": "ipython3",
   "version": "3.7.4"
  }
 },
 "nbformat": 4,
 "nbformat_minor": 4
}
